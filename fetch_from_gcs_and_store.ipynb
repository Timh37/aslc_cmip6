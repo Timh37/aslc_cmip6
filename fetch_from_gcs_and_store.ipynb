{
 "cells": [
  {
   "cell_type": "code",
   "execution_count": 1,
   "id": "5657438b-24bf-454d-b6ed-31801f669040",
   "metadata": {},
   "outputs": [],
   "source": [
    "import gcsfs\n",
    "import xarray as xr\n",
    "fs = gcsfs.GCSFileSystem()\n",
    "\n",
    "'''fetches data from google cloud to store locally as netcdfs'''\n"
   ]
  },
  {
   "cell_type": "code",
   "execution_count": 2,
   "id": "77c4989d-00f4-462f-8870-3b5e1e963a2e",
   "metadata": {},
   "outputs": [],
   "source": [
    "path = 'gs://leap-persistent/timh37/CMIP6/seasonal_slc/merged_memmean'"
   ]
  },
  {
   "cell_type": "code",
   "execution_count": 5,
   "id": "24ca3323-bddb-4bda-a501-2afedbab2b81",
   "metadata": {},
   "outputs": [],
   "source": [
    "for fn in fs.ls(path):\n",
    "    if 'psmsl' in fn:\n",
    "        \n",
    "        ds = xr.open_dataset('gs://'+fn,engine='zarr')\n",
    "        if 'member_id' in ds.dims:\n",
    "            ds = ds.mean(dim='member_id')\n",
    "        ds.attrs['hist'] = '1993-2022'\n",
    "        ds.attrs['fut'] = '2071-2100'\n",
    "        ds.attrs['note'] = 'Averages of all available initial-condition variants per model.'\n",
    "    \n",
    "        out_fn = fn.split('/')[-1].replace('ssp','memmean_ssp').replace('.zarr','.nc')\n",
    "        ds.to_netcdf(out_fn,mode='w')"
   ]
  }
 ],
 "metadata": {
  "kernelspec": {
   "display_name": "Python 3 (ipykernel)",
   "language": "python",
   "name": "python3"
  },
  "language_info": {
   "codemirror_mode": {
    "name": "ipython",
    "version": 3
   },
   "file_extension": ".py",
   "mimetype": "text/x-python",
   "name": "python",
   "nbconvert_exporter": "python",
   "pygments_lexer": "ipython3",
   "version": "3.12.11"
  }
 },
 "nbformat": 4,
 "nbformat_minor": 5
}
