{
 "cells": [
  {
   "cell_type": "code",
   "execution_count": 1,
   "id": "9f0ff811-96d3-4c4b-ae9c-5c34ea682794",
   "metadata": {},
   "outputs": [
    {
     "name": "stderr",
     "output_type": "stream",
     "text": [
      "/tmp/ipykernel_11481/2254304399.py:9: TqdmExperimentalWarning: Using `tqdm.autonotebook.tqdm` in notebook mode. Use `tqdm.tqdm` instead to force console mode (e.g. in jupyter console)\n",
      "  from tqdm.autonotebook import tqdm\n"
     ]
    }
   ],
   "source": [
    "import numpy as np\n",
    "import xarray as xr\n",
    "import os\n",
    "from tqdm.autonotebook import tqdm\n",
    "import gcsfs\n",
    "fs = gcsfs.GCSFileSystem() #list stores, stripp zarr from filename, load "
   ]
  },
  {
   "cell_type": "markdown",
   "id": "232b4ccb-f816-43f6-96bd-e892d15d1688",
   "metadata": {},
   "source": [
    "Computes ASLC range and peak month based on averages by month derived from CMIP6 simlations"
   ]
  },
  {
   "cell_type": "code",
   "execution_count": 3,
   "id": "189ee657-a485-4ba3-a0b7-dd61bdf5d4f8",
   "metadata": {},
   "outputs": [],
   "source": [
    "def open_zos_ibe_monmeans(zos_path,ibe_path,chunks):\n",
    "    fns = ['gs://'+k for k in fs.ls(zos_path) if 'DS_Store' not in k]\n",
    "    zos_monmeans = xr.open_mfdataset(fns,\n",
    "                                 combine='nested',coords='minimal',compat='override',concat_dim = 'source_id',chunks=chunks,engine='zarr')\n",
    "    \n",
    "    fns = ['gs://'+k for k in fs.ls(ibe_path) if 'DS_Store' not in k]\n",
    "    ibe_monmeans = xr.open_mfdataset(fns,\n",
    "                                 combine='nested',coords='minimal',compat='override',concat_dim = 'source_id',chunks=chunks,engine='zarr')\n",
    "    \n",
    "    zos_ibe_monmeans = xr.merge((zos_monmeans,ibe_monmeans),join='inner')\n",
    "    zos_ibe_monmeans['zos_ibe'] = zos_ibe_monmeans['zos'] + zos_ibe_monmeans['ibe']\n",
    "\n",
    "    return zos_ibe_monmeans\n",
    "\n",
    "def compute_range(ds):\n",
    "    return ds.max(dim='month') - ds.min(dim='month')\n",
    "\n",
    "def find_peak_months(ds):\n",
    "    return 1+ds.argmax(dim='month',skipna=False).where(np.isfinite(ds.isel(month=0,drop=True))), 1+ds.argmin(dim='month',skipna=False).where(np.isfinite(ds.isel(month=0,drop=True)))"
   ]
  },
  {
   "cell_type": "markdown",
   "id": "cac55f9b-d5c3-46e7-8167-6ca6b216e764",
   "metadata": {},
   "source": [
    "Configure the script:"
   ]
  },
  {
   "cell_type": "code",
   "execution_count": 4,
   "id": "295422c2-6743-4393-93e8-6dd2d478660b",
   "metadata": {
    "tags": []
   },
   "outputs": [],
   "source": [
    "ssps = ['ssp126']#['ssp126','ssp245','ssp370','ssp585'] #SSPs to process \n",
    "\n",
    "input_path_zos = 'gs://leap-persistent/timh37/CMIP6/zos_psmsl_month_means'\n",
    "input_path_ibe = 'gs://leap-persistent/timh37/CMIP6/ibe_psmsl_month_means'\n",
    "\n",
    "output_path = 'gs://leap-persistent/timh37/CMIP6/aslc_psmsl'\n",
    "'''\n",
    "input_path_zos = 'gs://leap-persistent/timh37/CMIP6/zos_1x1_month_means'\n",
    "input_path_ibe = 'gs://leap-persistent/timh37/CMIP6/ibe_1x1_month_means'\n",
    "\n",
    "output_path = 'gs://leap-persistent/timh37/CMIP6/aslc_1x1'\n",
    "'''"
   ]
  },
  {
   "cell_type": "code",
   "execution_count": 5,
   "id": "f3bc7cac-2eee-4efc-a20c-8a198c1e9dce",
   "metadata": {},
   "outputs": [
    {
     "data": {
      "application/vnd.jupyter.widget-view+json": {
       "model_id": "c3a5450a073a43349e1f323c9110be78",
       "version_major": 2,
       "version_minor": 0
      },
      "text/plain": [
       "0it [00:00, ?it/s]"
      ]
     },
     "metadata": {},
     "output_type": "display_data"
    }
   ],
   "source": [
    "for s,ssp in tqdm(enumerate(ssps)):\n",
    "    if 'psmsl' in input_path_zos:\n",
    "        monmeans = open_zos_ibe_monmeans(input_path_zos, #open gridded data\n",
    "                                 input_path_ibe,{'tg':1000,'period':2,'member_id':200,'month':12}).sel(experiment_id=ssp)\n",
    "    else:\n",
    "        monmeans = open_zos_ibe_monmeans(input_path_zos, #open gridded data\n",
    "                                 input_path_ibe,{'lat':500,'lon':500,'period':1,'member_id':50,'experiment_id':4,'month':12}).sel(experiment_id=ssp)\n",
    "\n",
    "    #adjust string dtypes (otherwise zarr complains)\n",
    "    monmeans['member_id'] = monmeans['member_id'].astype('str') \n",
    "    monmeans['source_id'] = monmeans['source_id'].astype('str')\n",
    "    monmeans['experiment_id'] = monmeans['experiment_id'].astype('str')\n",
    "    \n",
    "    try:\n",
    "        aslc_change_tgs['tg'] = aslc_change_tgs['tg'].astype('str')\n",
    "    except:\n",
    "        pass\n",
    "    \n",
    "    #compute aslc\n",
    "    aslc_range =  100 * compute_range(monmeans) #cm\n",
    "    aslc_amax,aslc_amin = find_peak_months(monmeans) #month 1-12\n",
    "\n",
    "    #store\n",
    "    aslc_range.to_zarr(os.path.join(output_path,'aslc_range_'+ssp+'.zarr'),mode='w',zarr_format=2) #circumvent issues with zarr3\n",
    "    aslc_amax.to_zarr(os.path.join(output_path,'aslc_amax_'+ssp+'.zarr'),mode='w',zarr_format=2) #circumvent issues with zarr3"
   ]
  },
  {
   "cell_type": "code",
   "execution_count": null,
   "id": "a60e8f78-6c29-49ec-8172-17b55d388ae9",
   "metadata": {},
   "outputs": [],
   "source": []
  }
 ],
 "metadata": {
  "kernelspec": {
   "display_name": "Python 3 (ipykernel)",
   "language": "python",
   "name": "python3"
  },
  "language_info": {
   "codemirror_mode": {
    "name": "ipython",
    "version": 3
   },
   "file_extension": ".py",
   "mimetype": "text/x-python",
   "name": "python",
   "nbconvert_exporter": "python",
   "pygments_lexer": "ipython3",
   "version": "3.12.11"
  }
 },
 "nbformat": 4,
 "nbformat_minor": 5
}
