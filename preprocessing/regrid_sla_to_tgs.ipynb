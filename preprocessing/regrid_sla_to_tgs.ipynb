{
 "cells": [
  {
   "cell_type": "code",
   "execution_count": 1,
   "id": "9db5a321-186c-4ce5-98e0-50b0b700b792",
   "metadata": {},
   "outputs": [],
   "source": [
    "import xarray as xr\n",
    "import numpy as np\n",
    "import os"
   ]
  },
  {
   "cell_type": "code",
   "execution_count": 2,
   "id": "26b09282-2c96-4eaf-8d44-bde96f1ae06a",
   "metadata": {},
   "outputs": [],
   "source": [
    "def get_lonlat_idx_nearest_to_tgs(tg_ds,ds):\n",
    "    '''tg_ds = xr.DataSet containing 'lon' and 'lat' coordinates of tide gauges\n",
    "    ds    = xr.DataSet containing CMIP6 data to subset\n",
    "    '''\n",
    "    lon_name = list(k for k in ds.dims if 'lon' in k)[0] #find lon/lat coordinate names\n",
    "    lat_name = list(k for k in ds.dims if 'lat' in k)[0]\n",
    "    \n",
    "    #compute distances between TG coordinates and grid cell centers\n",
    "    distances = 2*np.arcsin( np.sqrt(\n",
    "        np.sin( (np.pi/180) * 0.5*(ds[lat_name]-tg_ds.lat) )**2 +\n",
    "        np.cos((np.pi/180)*tg_ds.lat)*np.cos((np.pi/180)*ds[lat_name])*np.sin((np.pi/180)*0.5*(ds[lon_name]-tg_ds.lon))**2) )\n",
    "\n",
    "    distances = distances.where(np.isfinite(ds.sla.isel(time=0,drop=True)),1e30)\n",
    "    idx_nearest = distances.argmin(dim=[lon_name,lat_name]) #find indices of nearest grid cells\n",
    "    return idx_nearest"
   ]
  },
  {
   "cell_type": "markdown",
   "id": "3432faea-eab9-4b83-835f-dda9764c841c",
   "metadata": {},
   "source": [
    "Regrid gridded satellite altimetry and ERA5-derived IBE to psmsl coordinates:"
   ]
  },
  {
   "cell_type": "code",
   "execution_count": null,
   "id": "61e638ec-1b63-4c3b-8064-3b6de911b8bd",
   "metadata": {},
   "outputs": [],
   "source": [
    "psmsl = xr.open_dataset('../month_means_1993_2022_psmsl.nc')"
   ]
  },
  {
   "cell_type": "code",
   "execution_count": 11,
   "id": "095c4fe5-8af6-4e4f-a653-d17773188fda",
   "metadata": {},
   "outputs": [],
   "source": [
    "#Regridding satellite altimetry and IBE at 1x1 degree grid:\n",
    "sla = xr.open_dataset('../allsat_l4_duacs_sla_1993-2023_1x1.nc')\n",
    "ibe = xr.open_dataset('../monthly_ibe_1993-2023_1x1.nc')\n",
    "\n",
    "idx_nearest = get_lonlat_idx_nearest_to_tgs(psmsl,sla)\n",
    "\n",
    "sla_at_tgs = sla.isel(lon=idx_nearest['lon'],lat=idx_nearest['lat'])\n",
    "ibe_at_tgs = ibe.isel(lon=idx_nearest['lon'],lat=idx_nearest['lat'])\n",
    "\n",
    "sla_at_tgs['lat'] = ('id',psmsl.lat.values)\n",
    "sla_at_tgs['lon'] = ('id',psmsl.lon.values)\n",
    "\n",
    "ibe_at_tgs['lat'] = ('id',psmsl.lat.values)\n",
    "ibe_at_tgs['lon'] = ('id',psmsl.lon.values)\n",
    "\n",
    "sla_at_tgs.to_netcdf('../allsat_l4_duacs_sla_1993-2023_at_psmsl.nc',mode='w') #store\n",
    "ibe_at_tgs.to_netcdf('../monthly_ibe_1993-2023_at_psmsl.nc',mode='w')"
   ]
  },
  {
   "cell_type": "code",
   "execution_count": 3,
   "id": "53e5aa92-b179-4dbd-8d29-14b541f34660",
   "metadata": {},
   "outputs": [
    {
     "name": "stderr",
     "output_type": "stream",
     "text": [
      "/srv/conda/envs/notebook/lib/python3.12/site-packages/xarray/core/computation.py:818: RuntimeWarning: invalid value encountered in arcsin\n",
      "  result_data = func(*input_data)\n"
     ]
    }
   ],
   "source": [
    "#do the same for native satellite altimetry (more appropriate comparison?)\n",
    "indir='../cmems_obs-sl_glo_phy-ssh_my_allsat-l4-duacs-0.125deg_P1M-m_202411/cmems_obs-sl_glo_phy-ssh_my_allsat-l4-duacs-0.125deg_P1M-m_202411'\n",
    "fns = [os.path.join(indir,k) for k in os.listdir(indir) if k.startswith('.')==False]\n",
    "ds = xr.open_mfdataset(fns)[['sla']]\n",
    "ds = ds.rename({'latitude':'lat','longitude':'lon'})\n",
    "ds = ds.load()\n",
    "psmsl = xr.open_dataset('../month_means_1993_2022_psmsl.nc')\n",
    "\n",
    "\n",
    "idx_nearest = get_lonlat_idx_nearest_to_tgs(psmsl,ds)\n",
    "ds_at_tgs = ds.isel(lon=idx_nearest['lon'],lat=idx_nearest['lat'])\n",
    "\n",
    "ds_at_tgs['lat'] = ('id',psmsl.lat.values)\n",
    "ds_at_tgs['lon'] = ('id',psmsl.lon.values)\n",
    "ds_at_tgs.to_netcdf('../duacs-0.125deg_P1M-m_202411_at_tgs.nc',mode='w') #store\n"
   ]
  }
 ],
 "metadata": {
  "kernelspec": {
   "display_name": "Python 3 (ipykernel)",
   "language": "python",
   "name": "python3"
  },
  "language_info": {
   "codemirror_mode": {
    "name": "ipython",
    "version": 3
   },
   "file_extension": ".py",
   "mimetype": "text/x-python",
   "name": "python",
   "nbconvert_exporter": "python",
   "pygments_lexer": "ipython3",
   "version": "3.12.11"
  }
 },
 "nbformat": 4,
 "nbformat_minor": 5
}
