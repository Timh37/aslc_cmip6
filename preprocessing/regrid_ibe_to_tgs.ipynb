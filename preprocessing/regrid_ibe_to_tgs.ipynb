{
 "cells": [
  {
   "cell_type": "code",
   "execution_count": 1,
   "id": "50568789-a74e-49cb-b23d-d6c38a1e3b8e",
   "metadata": {},
   "outputs": [
    {
     "name": "stderr",
     "output_type": "stream",
     "text": [
      "/tmp/ipykernel_2392/270741471.py:4: TqdmExperimentalWarning: Using `tqdm.autonotebook.tqdm` in notebook mode. Use `tqdm.tqdm` instead to force console mode (e.g. in jupyter console)\n",
      "  from tqdm.autonotebook import tqdm\n"
     ]
    }
   ],
   "source": [
    "import numpy as np\n",
    "import xarray as xr\n",
    "import gcsfs\n",
    "from tqdm.autonotebook import tqdm\n",
    "fs = gcsfs.GCSFileSystem() #list stores, stripp zarr from filename, load "
   ]
  },
  {
   "cell_type": "markdown",
   "id": "ca770f2a-045d-486a-adb1-f5c177b3a7e3",
   "metadata": {},
   "source": [
    "Regrid monthly mean gridded IBE for cmip6 models to psmsl coordinates:"
   ]
  },
  {
   "cell_type": "code",
   "execution_count": 3,
   "id": "fde3a9ad-dc0b-4101-b2c4-7d2b4f2b7d2a",
   "metadata": {},
   "outputs": [],
   "source": [
    "def get_lonlat_idx_nearest_to_tgs(tg_ds,ds):\n",
    "    '''tg_ds = xr.DataSet containing 'lon' and 'lat' coordinates of tide gauges\n",
    "    ds    = xr.DataSet containing CMIP6 data to subset\n",
    "    '''\n",
    "    lon_name = list(k for k in ds.dims if 'lon' in k)[0] #find lon/lat coordinate names\n",
    "    lat_name = list(k for k in ds.dims if 'lat' in k)[0]\n",
    "    \n",
    "    #compute distances between TG coordinates and grid cell centers\n",
    "    distances = 2*np.arcsin( np.sqrt(\n",
    "        np.sin( (np.pi/180) * 0.5*(ds[lat_name]-tg_ds.lat) )**2 +\n",
    "        np.cos((np.pi/180)*tg_ds.lat)*np.cos((np.pi/180)*ds[lat_name])*np.sin((np.pi/180)*0.5*(ds[lon_name]-tg_ds.lon))**2) )\n",
    "\n",
    "    distances = distances.where(np.isfinite(ds.ibe.isel(period=0,month=0,drop=True).mean(dim=('member_id','experiment_id'))),1e30)\n",
    "    idx_nearest = distances.argmin(dim=[lon_name,lat_name]) #find indices of nearest grid cells\n",
    "    return idx_nearest\n",
    "    \n",
    "input_path = 'gs://leap-persistent/timh37/CMIP6/ibe_1x1_month_means'\n",
    "output_path = 'gs://leap-persistent/timh37/CMIP6/ibe_psmsl_month_means'\n",
    "\n",
    "target_grid = xr.open_dataset('../month_means_1993_2022_psmsl.nc')\n",
    "target_grid.attrs['name'] = 'psmsl'\n",
    "\n",
    "fns = [k for k in fs.ls(input_path) if 'DS_Store' not in k]\n",
    "\n",
    "for fn in tqdm(fns):\n",
    "    ds = xr.open_dataset('gs://'+fn,engine='zarr')\n",
    "    idx_nearest = get_lonlat_idx_nearest_to_tgs(target_grid,ds)\n",
    "    \n",
    "    ds_new = ds.isel(lon=idx_nearest['lon'],lat=idx_nearest['lat'])\n",
    "\n",
    "    ##ds_new['tg'] = tgs\n",
    "    ds_new['lat'] = ('id',target_grid.lat.values)\n",
    "    ds_new['lon'] = ('id',target_grid.lon.values)\n",
    "    ds_new.to_zarr(os.path.join(output_path,fn.split('/')[-1]),mode='w')"
   ]
  },
  {
   "cell_type": "markdown",
   "id": "6d30dd28-a3b5-41be-aeeb-f4a0a30d72f9",
   "metadata": {},
   "source": [
    "Regrid gridded IBE for CMIP6 models to psmsl coordinates:"
   ]
  },
  {
   "cell_type": "code",
   "execution_count": null,
   "id": "530e4ea5-b029-464a-ae1f-89c2d97c6635",
   "metadata": {},
   "outputs": [
    {
     "data": {
      "application/vnd.jupyter.widget-view+json": {
       "model_id": "3f8f6cb29bf844ca8eb1aaeddb8587cd",
       "version_major": 2,
       "version_minor": 0
      },
      "text/plain": [
       "  0%|          | 0/40 [00:00<?, ?it/s]"
      ]
     },
     "metadata": {},
     "output_type": "display_data"
    },
    {
     "name": "stderr",
     "output_type": "stream",
     "text": [
      "/tmp/ipykernel_2392/1202660612.py:29: SerializationWarning: Unable to decode time axis into full numpy.datetime64[ns] objects, continuing using cftime.datetime objects instead, reason: dates out of range. To silence this warning use a coarser resolution 'time_unit' or specify 'use_cftime=True'.\n",
      "  ds = xr.open_dataset('gs://'+fn,engine='zarr')\n",
      "/tmp/ipykernel_2392/1202660612.py:29: SerializationWarning: Unable to decode time axis into full numpy.datetime64[ns] objects, continuing using cftime.datetime objects instead, reason: dates out of range. To silence this warning use a coarser resolution 'time_unit' or specify 'use_cftime=True'.\n",
      "  ds = xr.open_dataset('gs://'+fn,engine='zarr')\n",
      "/tmp/ipykernel_2392/1202660612.py:29: SerializationWarning: Unable to decode time axis into full numpy.datetime64[ns] objects, continuing using cftime.datetime objects instead, reason: dates out of range. To silence this warning use a coarser resolution 'time_unit' or specify 'use_cftime=True'.\n",
      "  ds = xr.open_dataset('gs://'+fn,engine='zarr')\n",
      "/tmp/ipykernel_2392/1202660612.py:29: SerializationWarning: Unable to decode time axis into full numpy.datetime64[ns] objects, continuing using cftime.datetime objects instead, reason: dates out of range. To silence this warning use a coarser resolution 'time_unit' or specify 'use_cftime=True'.\n",
      "  ds = xr.open_dataset('gs://'+fn,engine='zarr')\n"
     ]
    },
    {
     "data": {
      "application/vnd.jupyter.widget-view+json": {
       "model_id": "0971f143203d4988ba33422fa7a5295e",
       "version_major": 2,
       "version_minor": 0
      },
      "text/plain": [
       "  0%|          | 0/160 [00:00<?, ?it/s]"
      ]
     },
     "metadata": {},
     "output_type": "display_data"
    },
    {
     "name": "stderr",
     "output_type": "stream",
     "text": [
      "/tmp/ipykernel_2392/1202660612.py:29: SerializationWarning: Unable to decode time axis into full numpy.datetime64[ns] objects, continuing using cftime.datetime objects instead, reason: dates out of range. To silence this warning use a coarser resolution 'time_unit' or specify 'use_cftime=True'.\n",
      "  ds = xr.open_dataset('gs://'+fn,engine='zarr')\n",
      "/tmp/ipykernel_2392/1202660612.py:29: SerializationWarning: Unable to decode time axis into full numpy.datetime64[ns] objects, continuing using cftime.datetime objects instead, reason: dates out of range. To silence this warning use a coarser resolution 'time_unit' or specify 'use_cftime=True'.\n",
      "  ds = xr.open_dataset('gs://'+fn,engine='zarr')\n",
      "/tmp/ipykernel_2392/1202660612.py:29: SerializationWarning: Unable to decode time axis into full numpy.datetime64[ns] objects, continuing using cftime.datetime objects instead, reason: dates out of range. To silence this warning use a coarser resolution 'time_unit' or specify 'use_cftime=True'.\n",
      "  ds = xr.open_dataset('gs://'+fn,engine='zarr')\n",
      "/tmp/ipykernel_2392/1202660612.py:29: SerializationWarning: Unable to decode time axis into full numpy.datetime64[ns] objects, continuing using cftime.datetime objects instead, reason: dates out of range. To silence this warning use a coarser resolution 'time_unit' or specify 'use_cftime=True'.\n",
      "  ds = xr.open_dataset('gs://'+fn,engine='zarr')\n",
      "/tmp/ipykernel_2392/1202660612.py:29: SerializationWarning: Unable to decode time axis into full numpy.datetime64[ns] objects, continuing using cftime.datetime objects instead, reason: dates out of range. To silence this warning use a coarser resolution 'time_unit' or specify 'use_cftime=True'.\n",
      "  ds = xr.open_dataset('gs://'+fn,engine='zarr')\n",
      "/tmp/ipykernel_2392/1202660612.py:29: SerializationWarning: Unable to decode time axis into full numpy.datetime64[ns] objects, continuing using cftime.datetime objects instead, reason: dates out of range. To silence this warning use a coarser resolution 'time_unit' or specify 'use_cftime=True'.\n",
      "  ds = xr.open_dataset('gs://'+fn,engine='zarr')\n",
      "/tmp/ipykernel_2392/1202660612.py:29: SerializationWarning: Unable to decode time axis into full numpy.datetime64[ns] objects, continuing using cftime.datetime objects instead, reason: dates out of range. To silence this warning use a coarser resolution 'time_unit' or specify 'use_cftime=True'.\n",
      "  ds = xr.open_dataset('gs://'+fn,engine='zarr')\n",
      "/tmp/ipykernel_2392/1202660612.py:29: SerializationWarning: Unable to decode time axis into full numpy.datetime64[ns] objects, continuing using cftime.datetime objects instead, reason: dates out of range. To silence this warning use a coarser resolution 'time_unit' or specify 'use_cftime=True'.\n",
      "  ds = xr.open_dataset('gs://'+fn,engine='zarr')\n",
      "/tmp/ipykernel_2392/1202660612.py:29: SerializationWarning: Unable to decode time axis into full numpy.datetime64[ns] objects, continuing using cftime.datetime objects instead, reason: dates out of range. To silence this warning use a coarser resolution 'time_unit' or specify 'use_cftime=True'.\n",
      "  ds = xr.open_dataset('gs://'+fn,engine='zarr')\n",
      "/tmp/ipykernel_2392/1202660612.py:29: SerializationWarning: Unable to decode time axis into full numpy.datetime64[ns] objects, continuing using cftime.datetime objects instead, reason: dates out of range. To silence this warning use a coarser resolution 'time_unit' or specify 'use_cftime=True'.\n",
      "  ds = xr.open_dataset('gs://'+fn,engine='zarr')\n",
      "/tmp/ipykernel_2392/1202660612.py:29: SerializationWarning: Unable to decode time axis into full numpy.datetime64[ns] objects, continuing using cftime.datetime objects instead, reason: dates out of range. To silence this warning use a coarser resolution 'time_unit' or specify 'use_cftime=True'.\n",
      "  ds = xr.open_dataset('gs://'+fn,engine='zarr')\n",
      "/tmp/ipykernel_2392/1202660612.py:29: SerializationWarning: Unable to decode time axis into full numpy.datetime64[ns] objects, continuing using cftime.datetime objects instead, reason: dates out of range. To silence this warning use a coarser resolution 'time_unit' or specify 'use_cftime=True'.\n",
      "  ds = xr.open_dataset('gs://'+fn,engine='zarr')\n",
      "/tmp/ipykernel_2392/1202660612.py:29: SerializationWarning: Unable to decode time axis into full numpy.datetime64[ns] objects, continuing using cftime.datetime objects instead, reason: dates out of range. To silence this warning use a coarser resolution 'time_unit' or specify 'use_cftime=True'.\n",
      "  ds = xr.open_dataset('gs://'+fn,engine='zarr')\n",
      "/tmp/ipykernel_2392/1202660612.py:29: SerializationWarning: Unable to decode time axis into full numpy.datetime64[ns] objects, continuing using cftime.datetime objects instead, reason: dates out of range. To silence this warning use a coarser resolution 'time_unit' or specify 'use_cftime=True'.\n",
      "  ds = xr.open_dataset('gs://'+fn,engine='zarr')\n",
      "/tmp/ipykernel_2392/1202660612.py:29: SerializationWarning: Unable to decode time axis into full numpy.datetime64[ns] objects, continuing using cftime.datetime objects instead, reason: dates out of range. To silence this warning use a coarser resolution 'time_unit' or specify 'use_cftime=True'.\n",
      "  ds = xr.open_dataset('gs://'+fn,engine='zarr')\n",
      "/tmp/ipykernel_2392/1202660612.py:29: SerializationWarning: Unable to decode time axis into full numpy.datetime64[ns] objects, continuing using cftime.datetime objects instead, reason: dates out of range. To silence this warning use a coarser resolution 'time_unit' or specify 'use_cftime=True'.\n",
      "  ds = xr.open_dataset('gs://'+fn,engine='zarr')\n",
      "/tmp/ipykernel_2392/1202660612.py:29: SerializationWarning: Unable to decode time axis into full numpy.datetime64[ns] objects, continuing using cftime.datetime objects instead, reason: dates out of range. To silence this warning use a coarser resolution 'time_unit' or specify 'use_cftime=True'.\n",
      "  ds = xr.open_dataset('gs://'+fn,engine='zarr')\n",
      "/tmp/ipykernel_2392/1202660612.py:29: SerializationWarning: Unable to decode time axis into full numpy.datetime64[ns] objects, continuing using cftime.datetime objects instead, reason: dates out of range. To silence this warning use a coarser resolution 'time_unit' or specify 'use_cftime=True'.\n",
      "  ds = xr.open_dataset('gs://'+fn,engine='zarr')\n",
      "/tmp/ipykernel_2392/1202660612.py:29: SerializationWarning: Unable to decode time axis into full numpy.datetime64[ns] objects, continuing using cftime.datetime objects instead, reason: dates out of range. To silence this warning use a coarser resolution 'time_unit' or specify 'use_cftime=True'.\n",
      "  ds = xr.open_dataset('gs://'+fn,engine='zarr')\n",
      "/tmp/ipykernel_2392/1202660612.py:29: SerializationWarning: Unable to decode time axis into full numpy.datetime64[ns] objects, continuing using cftime.datetime objects instead, reason: dates out of range. To silence this warning use a coarser resolution 'time_unit' or specify 'use_cftime=True'.\n",
      "  ds = xr.open_dataset('gs://'+fn,engine='zarr')\n",
      "/tmp/ipykernel_2392/1202660612.py:29: SerializationWarning: Unable to decode time axis into full numpy.datetime64[ns] objects, continuing using cftime.datetime objects instead, reason: dates out of range. To silence this warning use a coarser resolution 'time_unit' or specify 'use_cftime=True'.\n",
      "  ds = xr.open_dataset('gs://'+fn,engine='zarr')\n",
      "/tmp/ipykernel_2392/1202660612.py:29: SerializationWarning: Unable to decode time axis into full numpy.datetime64[ns] objects, continuing using cftime.datetime objects instead, reason: dates out of range. To silence this warning use a coarser resolution 'time_unit' or specify 'use_cftime=True'.\n",
      "  ds = xr.open_dataset('gs://'+fn,engine='zarr')\n",
      "/tmp/ipykernel_2392/1202660612.py:29: SerializationWarning: Unable to decode time axis into full numpy.datetime64[ns] objects, continuing using cftime.datetime objects instead, reason: dates out of range. To silence this warning use a coarser resolution 'time_unit' or specify 'use_cftime=True'.\n",
      "  ds = xr.open_dataset('gs://'+fn,engine='zarr')\n",
      "/tmp/ipykernel_2392/1202660612.py:29: SerializationWarning: Unable to decode time axis into full numpy.datetime64[ns] objects, continuing using cftime.datetime objects instead, reason: dates out of range. To silence this warning use a coarser resolution 'time_unit' or specify 'use_cftime=True'.\n",
      "  ds = xr.open_dataset('gs://'+fn,engine='zarr')\n",
      "/tmp/ipykernel_2392/1202660612.py:29: SerializationWarning: Unable to decode time axis into full numpy.datetime64[ns] objects, continuing using cftime.datetime objects instead, reason: dates out of range. To silence this warning use a coarser resolution 'time_unit' or specify 'use_cftime=True'.\n",
      "  ds = xr.open_dataset('gs://'+fn,engine='zarr')\n",
      "/tmp/ipykernel_2392/1202660612.py:29: SerializationWarning: Unable to decode time axis into full numpy.datetime64[ns] objects, continuing using cftime.datetime objects instead, reason: dates out of range. To silence this warning use a coarser resolution 'time_unit' or specify 'use_cftime=True'.\n",
      "  ds = xr.open_dataset('gs://'+fn,engine='zarr')\n",
      "/tmp/ipykernel_2392/1202660612.py:29: SerializationWarning: Unable to decode time axis into full numpy.datetime64[ns] objects, continuing using cftime.datetime objects instead, reason: dates out of range. To silence this warning use a coarser resolution 'time_unit' or specify 'use_cftime=True'.\n",
      "  ds = xr.open_dataset('gs://'+fn,engine='zarr')\n",
      "/tmp/ipykernel_2392/1202660612.py:29: SerializationWarning: Unable to decode time axis into full numpy.datetime64[ns] objects, continuing using cftime.datetime objects instead, reason: dates out of range. To silence this warning use a coarser resolution 'time_unit' or specify 'use_cftime=True'.\n",
      "  ds = xr.open_dataset('gs://'+fn,engine='zarr')\n",
      "/tmp/ipykernel_2392/1202660612.py:29: SerializationWarning: Unable to decode time axis into full numpy.datetime64[ns] objects, continuing using cftime.datetime objects instead, reason: dates out of range. To silence this warning use a coarser resolution 'time_unit' or specify 'use_cftime=True'.\n",
      "  ds = xr.open_dataset('gs://'+fn,engine='zarr')\n",
      "/tmp/ipykernel_2392/1202660612.py:29: SerializationWarning: Unable to decode time axis into full numpy.datetime64[ns] objects, continuing using cftime.datetime objects instead, reason: dates out of range. To silence this warning use a coarser resolution 'time_unit' or specify 'use_cftime=True'.\n",
      "  ds = xr.open_dataset('gs://'+fn,engine='zarr')\n",
      "/tmp/ipykernel_2392/1202660612.py:29: SerializationWarning: Unable to decode time axis into full numpy.datetime64[ns] objects, continuing using cftime.datetime objects instead, reason: dates out of range. To silence this warning use a coarser resolution 'time_unit' or specify 'use_cftime=True'.\n",
      "  ds = xr.open_dataset('gs://'+fn,engine='zarr')\n",
      "/tmp/ipykernel_2392/1202660612.py:29: SerializationWarning: Unable to decode time axis into full numpy.datetime64[ns] objects, continuing using cftime.datetime objects instead, reason: dates out of range. To silence this warning use a coarser resolution 'time_unit' or specify 'use_cftime=True'.\n",
      "  ds = xr.open_dataset('gs://'+fn,engine='zarr')\n",
      "/tmp/ipykernel_2392/1202660612.py:29: SerializationWarning: Unable to decode time axis into full numpy.datetime64[ns] objects, continuing using cftime.datetime objects instead, reason: dates out of range. To silence this warning use a coarser resolution 'time_unit' or specify 'use_cftime=True'.\n",
      "  ds = xr.open_dataset('gs://'+fn,engine='zarr')\n",
      "/tmp/ipykernel_2392/1202660612.py:29: SerializationWarning: Unable to decode time axis into full numpy.datetime64[ns] objects, continuing using cftime.datetime objects instead, reason: dates out of range. To silence this warning use a coarser resolution 'time_unit' or specify 'use_cftime=True'.\n",
      "  ds = xr.open_dataset('gs://'+fn,engine='zarr')\n",
      "/tmp/ipykernel_2392/1202660612.py:29: SerializationWarning: Unable to decode time axis into full numpy.datetime64[ns] objects, continuing using cftime.datetime objects instead, reason: dates out of range. To silence this warning use a coarser resolution 'time_unit' or specify 'use_cftime=True'.\n",
      "  ds = xr.open_dataset('gs://'+fn,engine='zarr')\n",
      "/tmp/ipykernel_2392/1202660612.py:29: SerializationWarning: Unable to decode time axis into full numpy.datetime64[ns] objects, continuing using cftime.datetime objects instead, reason: dates out of range. To silence this warning use a coarser resolution 'time_unit' or specify 'use_cftime=True'.\n",
      "  ds = xr.open_dataset('gs://'+fn,engine='zarr')\n",
      "/tmp/ipykernel_2392/1202660612.py:29: SerializationWarning: Unable to decode time axis into full numpy.datetime64[ns] objects, continuing using cftime.datetime objects instead, reason: dates out of range. To silence this warning use a coarser resolution 'time_unit' or specify 'use_cftime=True'.\n",
      "  ds = xr.open_dataset('gs://'+fn,engine='zarr')\n",
      "/tmp/ipykernel_2392/1202660612.py:29: SerializationWarning: Unable to decode time axis into full numpy.datetime64[ns] objects, continuing using cftime.datetime objects instead, reason: dates out of range. To silence this warning use a coarser resolution 'time_unit' or specify 'use_cftime=True'.\n",
      "  ds = xr.open_dataset('gs://'+fn,engine='zarr')\n",
      "/tmp/ipykernel_2392/1202660612.py:29: SerializationWarning: Unable to decode time axis into full numpy.datetime64[ns] objects, continuing using cftime.datetime objects instead, reason: dates out of range. To silence this warning use a coarser resolution 'time_unit' or specify 'use_cftime=True'.\n",
      "  ds = xr.open_dataset('gs://'+fn,engine='zarr')\n",
      "/tmp/ipykernel_2392/1202660612.py:29: SerializationWarning: Unable to decode time axis into full numpy.datetime64[ns] objects, continuing using cftime.datetime objects instead, reason: dates out of range. To silence this warning use a coarser resolution 'time_unit' or specify 'use_cftime=True'.\n",
      "  ds = xr.open_dataset('gs://'+fn,engine='zarr')\n",
      "/tmp/ipykernel_2392/1202660612.py:29: SerializationWarning: Unable to decode time axis into full numpy.datetime64[ns] objects, continuing using cftime.datetime objects instead, reason: dates out of range. To silence this warning use a coarser resolution 'time_unit' or specify 'use_cftime=True'.\n",
      "  ds = xr.open_dataset('gs://'+fn,engine='zarr')\n",
      "/tmp/ipykernel_2392/1202660612.py:29: SerializationWarning: Unable to decode time axis into full numpy.datetime64[ns] objects, continuing using cftime.datetime objects instead, reason: dates out of range. To silence this warning use a coarser resolution 'time_unit' or specify 'use_cftime=True'.\n",
      "  ds = xr.open_dataset('gs://'+fn,engine='zarr')\n",
      "/tmp/ipykernel_2392/1202660612.py:29: SerializationWarning: Unable to decode time axis into full numpy.datetime64[ns] objects, continuing using cftime.datetime objects instead, reason: dates out of range. To silence this warning use a coarser resolution 'time_unit' or specify 'use_cftime=True'.\n",
      "  ds = xr.open_dataset('gs://'+fn,engine='zarr')\n",
      "/tmp/ipykernel_2392/1202660612.py:29: SerializationWarning: Unable to decode time axis into full numpy.datetime64[ns] objects, continuing using cftime.datetime objects instead, reason: dates out of range. To silence this warning use a coarser resolution 'time_unit' or specify 'use_cftime=True'.\n",
      "  ds = xr.open_dataset('gs://'+fn,engine='zarr')\n",
      "/tmp/ipykernel_2392/1202660612.py:29: SerializationWarning: Unable to decode time axis into full numpy.datetime64[ns] objects, continuing using cftime.datetime objects instead, reason: dates out of range. To silence this warning use a coarser resolution 'time_unit' or specify 'use_cftime=True'.\n",
      "  ds = xr.open_dataset('gs://'+fn,engine='zarr')\n",
      "/tmp/ipykernel_2392/1202660612.py:29: SerializationWarning: Unable to decode time axis into full numpy.datetime64[ns] objects, continuing using cftime.datetime objects instead, reason: dates out of range. To silence this warning use a coarser resolution 'time_unit' or specify 'use_cftime=True'.\n",
      "  ds = xr.open_dataset('gs://'+fn,engine='zarr')\n",
      "/tmp/ipykernel_2392/1202660612.py:29: SerializationWarning: Unable to decode time axis into full numpy.datetime64[ns] objects, continuing using cftime.datetime objects instead, reason: dates out of range. To silence this warning use a coarser resolution 'time_unit' or specify 'use_cftime=True'.\n",
      "  ds = xr.open_dataset('gs://'+fn,engine='zarr')\n",
      "/tmp/ipykernel_2392/1202660612.py:29: SerializationWarning: Unable to decode time axis into full numpy.datetime64[ns] objects, continuing using cftime.datetime objects instead, reason: dates out of range. To silence this warning use a coarser resolution 'time_unit' or specify 'use_cftime=True'.\n",
      "  ds = xr.open_dataset('gs://'+fn,engine='zarr')\n",
      "/tmp/ipykernel_2392/1202660612.py:29: SerializationWarning: Unable to decode time axis into full numpy.datetime64[ns] objects, continuing using cftime.datetime objects instead, reason: dates out of range. To silence this warning use a coarser resolution 'time_unit' or specify 'use_cftime=True'.\n",
      "  ds = xr.open_dataset('gs://'+fn,engine='zarr')\n",
      "/tmp/ipykernel_2392/1202660612.py:29: SerializationWarning: Unable to decode time axis into full numpy.datetime64[ns] objects, continuing using cftime.datetime objects instead, reason: dates out of range. To silence this warning use a coarser resolution 'time_unit' or specify 'use_cftime=True'.\n",
      "  ds = xr.open_dataset('gs://'+fn,engine='zarr')\n",
      "/tmp/ipykernel_2392/1202660612.py:29: SerializationWarning: Unable to decode time axis into full numpy.datetime64[ns] objects, continuing using cftime.datetime objects instead, reason: dates out of range. To silence this warning use a coarser resolution 'time_unit' or specify 'use_cftime=True'.\n",
      "  ds = xr.open_dataset('gs://'+fn,engine='zarr')\n",
      "/tmp/ipykernel_2392/1202660612.py:29: SerializationWarning: Unable to decode time axis into full numpy.datetime64[ns] objects, continuing using cftime.datetime objects instead, reason: dates out of range. To silence this warning use a coarser resolution 'time_unit' or specify 'use_cftime=True'.\n",
      "  ds = xr.open_dataset('gs://'+fn,engine='zarr')\n",
      "/tmp/ipykernel_2392/1202660612.py:29: SerializationWarning: Unable to decode time axis into full numpy.datetime64[ns] objects, continuing using cftime.datetime objects instead, reason: dates out of range. To silence this warning use a coarser resolution 'time_unit' or specify 'use_cftime=True'.\n",
      "  ds = xr.open_dataset('gs://'+fn,engine='zarr')\n",
      "/tmp/ipykernel_2392/1202660612.py:29: SerializationWarning: Unable to decode time axis into full numpy.datetime64[ns] objects, continuing using cftime.datetime objects instead, reason: dates out of range. To silence this warning use a coarser resolution 'time_unit' or specify 'use_cftime=True'.\n",
      "  ds = xr.open_dataset('gs://'+fn,engine='zarr')\n",
      "/tmp/ipykernel_2392/1202660612.py:29: SerializationWarning: Unable to decode time axis into full numpy.datetime64[ns] objects, continuing using cftime.datetime objects instead, reason: dates out of range. To silence this warning use a coarser resolution 'time_unit' or specify 'use_cftime=True'.\n",
      "  ds = xr.open_dataset('gs://'+fn,engine='zarr')\n",
      "/tmp/ipykernel_2392/1202660612.py:29: SerializationWarning: Unable to decode time axis into full numpy.datetime64[ns] objects, continuing using cftime.datetime objects instead, reason: dates out of range. To silence this warning use a coarser resolution 'time_unit' or specify 'use_cftime=True'.\n",
      "  ds = xr.open_dataset('gs://'+fn,engine='zarr')\n",
      "/tmp/ipykernel_2392/1202660612.py:29: SerializationWarning: Unable to decode time axis into full numpy.datetime64[ns] objects, continuing using cftime.datetime objects instead, reason: dates out of range. To silence this warning use a coarser resolution 'time_unit' or specify 'use_cftime=True'.\n",
      "  ds = xr.open_dataset('gs://'+fn,engine='zarr')\n",
      "/tmp/ipykernel_2392/1202660612.py:29: SerializationWarning: Unable to decode time axis into full numpy.datetime64[ns] objects, continuing using cftime.datetime objects instead, reason: dates out of range. To silence this warning use a coarser resolution 'time_unit' or specify 'use_cftime=True'.\n",
      "  ds = xr.open_dataset('gs://'+fn,engine='zarr')\n",
      "/tmp/ipykernel_2392/1202660612.py:29: SerializationWarning: Unable to decode time axis into full numpy.datetime64[ns] objects, continuing using cftime.datetime objects instead, reason: dates out of range. To silence this warning use a coarser resolution 'time_unit' or specify 'use_cftime=True'.\n",
      "  ds = xr.open_dataset('gs://'+fn,engine='zarr')\n",
      "/tmp/ipykernel_2392/1202660612.py:29: SerializationWarning: Unable to decode time axis into full numpy.datetime64[ns] objects, continuing using cftime.datetime objects instead, reason: dates out of range. To silence this warning use a coarser resolution 'time_unit' or specify 'use_cftime=True'.\n",
      "  ds = xr.open_dataset('gs://'+fn,engine='zarr')\n",
      "/tmp/ipykernel_2392/1202660612.py:29: SerializationWarning: Unable to decode time axis into full numpy.datetime64[ns] objects, continuing using cftime.datetime objects instead, reason: dates out of range. To silence this warning use a coarser resolution 'time_unit' or specify 'use_cftime=True'.\n",
      "  ds = xr.open_dataset('gs://'+fn,engine='zarr')\n",
      "/tmp/ipykernel_2392/1202660612.py:29: SerializationWarning: Unable to decode time axis into full numpy.datetime64[ns] objects, continuing using cftime.datetime objects instead, reason: dates out of range. To silence this warning use a coarser resolution 'time_unit' or specify 'use_cftime=True'.\n",
      "  ds = xr.open_dataset('gs://'+fn,engine='zarr')\n",
      "/tmp/ipykernel_2392/1202660612.py:29: SerializationWarning: Unable to decode time axis into full numpy.datetime64[ns] objects, continuing using cftime.datetime objects instead, reason: dates out of range. To silence this warning use a coarser resolution 'time_unit' or specify 'use_cftime=True'.\n",
      "  ds = xr.open_dataset('gs://'+fn,engine='zarr')\n",
      "/tmp/ipykernel_2392/1202660612.py:29: SerializationWarning: Unable to decode time axis into full numpy.datetime64[ns] objects, continuing using cftime.datetime objects instead, reason: dates out of range. To silence this warning use a coarser resolution 'time_unit' or specify 'use_cftime=True'.\n",
      "  ds = xr.open_dataset('gs://'+fn,engine='zarr')\n",
      "/tmp/ipykernel_2392/1202660612.py:29: SerializationWarning: Unable to decode time axis into full numpy.datetime64[ns] objects, continuing using cftime.datetime objects instead, reason: dates out of range. To silence this warning use a coarser resolution 'time_unit' or specify 'use_cftime=True'.\n",
      "  ds = xr.open_dataset('gs://'+fn,engine='zarr')\n",
      "/tmp/ipykernel_2392/1202660612.py:29: SerializationWarning: Unable to decode time axis into full numpy.datetime64[ns] objects, continuing using cftime.datetime objects instead, reason: dates out of range. To silence this warning use a coarser resolution 'time_unit' or specify 'use_cftime=True'.\n",
      "  ds = xr.open_dataset('gs://'+fn,engine='zarr')\n",
      "/tmp/ipykernel_2392/1202660612.py:29: SerializationWarning: Unable to decode time axis into full numpy.datetime64[ns] objects, continuing using cftime.datetime objects instead, reason: dates out of range. To silence this warning use a coarser resolution 'time_unit' or specify 'use_cftime=True'.\n",
      "  ds = xr.open_dataset('gs://'+fn,engine='zarr')\n",
      "/tmp/ipykernel_2392/1202660612.py:29: SerializationWarning: Unable to decode time axis into full numpy.datetime64[ns] objects, continuing using cftime.datetime objects instead, reason: dates out of range. To silence this warning use a coarser resolution 'time_unit' or specify 'use_cftime=True'.\n",
      "  ds = xr.open_dataset('gs://'+fn,engine='zarr')\n",
      "/tmp/ipykernel_2392/1202660612.py:29: SerializationWarning: Unable to decode time axis into full numpy.datetime64[ns] objects, continuing using cftime.datetime objects instead, reason: dates out of range. To silence this warning use a coarser resolution 'time_unit' or specify 'use_cftime=True'.\n",
      "  ds = xr.open_dataset('gs://'+fn,engine='zarr')\n",
      "/tmp/ipykernel_2392/1202660612.py:29: SerializationWarning: Unable to decode time axis into full numpy.datetime64[ns] objects, continuing using cftime.datetime objects instead, reason: dates out of range. To silence this warning use a coarser resolution 'time_unit' or specify 'use_cftime=True'.\n",
      "  ds = xr.open_dataset('gs://'+fn,engine='zarr')\n",
      "/tmp/ipykernel_2392/1202660612.py:29: SerializationWarning: Unable to decode time axis into full numpy.datetime64[ns] objects, continuing using cftime.datetime objects instead, reason: dates out of range. To silence this warning use a coarser resolution 'time_unit' or specify 'use_cftime=True'.\n",
      "  ds = xr.open_dataset('gs://'+fn,engine='zarr')\n",
      "/tmp/ipykernel_2392/1202660612.py:29: SerializationWarning: Unable to decode time axis into full numpy.datetime64[ns] objects, continuing using cftime.datetime objects instead, reason: dates out of range. To silence this warning use a coarser resolution 'time_unit' or specify 'use_cftime=True'.\n",
      "  ds = xr.open_dataset('gs://'+fn,engine='zarr')\n",
      "/tmp/ipykernel_2392/1202660612.py:29: SerializationWarning: Unable to decode time axis into full numpy.datetime64[ns] objects, continuing using cftime.datetime objects instead, reason: dates out of range. To silence this warning use a coarser resolution 'time_unit' or specify 'use_cftime=True'.\n",
      "  ds = xr.open_dataset('gs://'+fn,engine='zarr')\n",
      "/tmp/ipykernel_2392/1202660612.py:29: SerializationWarning: Unable to decode time axis into full numpy.datetime64[ns] objects, continuing using cftime.datetime objects instead, reason: dates out of range. To silence this warning use a coarser resolution 'time_unit' or specify 'use_cftime=True'.\n",
      "  ds = xr.open_dataset('gs://'+fn,engine='zarr')\n",
      "/tmp/ipykernel_2392/1202660612.py:29: SerializationWarning: Unable to decode time axis into full numpy.datetime64[ns] objects, continuing using cftime.datetime objects instead, reason: dates out of range. To silence this warning use a coarser resolution 'time_unit' or specify 'use_cftime=True'.\n",
      "  ds = xr.open_dataset('gs://'+fn,engine='zarr')\n",
      "/tmp/ipykernel_2392/1202660612.py:29: SerializationWarning: Unable to decode time axis into full numpy.datetime64[ns] objects, continuing using cftime.datetime objects instead, reason: dates out of range. To silence this warning use a coarser resolution 'time_unit' or specify 'use_cftime=True'.\n",
      "  ds = xr.open_dataset('gs://'+fn,engine='zarr')\n",
      "/tmp/ipykernel_2392/1202660612.py:29: SerializationWarning: Unable to decode time axis into full numpy.datetime64[ns] objects, continuing using cftime.datetime objects instead, reason: dates out of range. To silence this warning use a coarser resolution 'time_unit' or specify 'use_cftime=True'.\n",
      "  ds = xr.open_dataset('gs://'+fn,engine='zarr')\n",
      "/tmp/ipykernel_2392/1202660612.py:29: SerializationWarning: Unable to decode time axis into full numpy.datetime64[ns] objects, continuing using cftime.datetime objects instead, reason: dates out of range. To silence this warning use a coarser resolution 'time_unit' or specify 'use_cftime=True'.\n",
      "  ds = xr.open_dataset('gs://'+fn,engine='zarr')\n",
      "/tmp/ipykernel_2392/1202660612.py:29: SerializationWarning: Unable to decode time axis into full numpy.datetime64[ns] objects, continuing using cftime.datetime objects instead, reason: dates out of range. To silence this warning use a coarser resolution 'time_unit' or specify 'use_cftime=True'.\n",
      "  ds = xr.open_dataset('gs://'+fn,engine='zarr')\n",
      "/tmp/ipykernel_2392/1202660612.py:29: SerializationWarning: Unable to decode time axis into full numpy.datetime64[ns] objects, continuing using cftime.datetime objects instead, reason: dates out of range. To silence this warning use a coarser resolution 'time_unit' or specify 'use_cftime=True'.\n",
      "  ds = xr.open_dataset('gs://'+fn,engine='zarr')\n",
      "/tmp/ipykernel_2392/1202660612.py:29: SerializationWarning: Unable to decode time axis into full numpy.datetime64[ns] objects, continuing using cftime.datetime objects instead, reason: dates out of range. To silence this warning use a coarser resolution 'time_unit' or specify 'use_cftime=True'.\n",
      "  ds = xr.open_dataset('gs://'+fn,engine='zarr')\n",
      "/tmp/ipykernel_2392/1202660612.py:29: SerializationWarning: Unable to decode time axis into full numpy.datetime64[ns] objects, continuing using cftime.datetime objects instead, reason: dates out of range. To silence this warning use a coarser resolution 'time_unit' or specify 'use_cftime=True'.\n",
      "  ds = xr.open_dataset('gs://'+fn,engine='zarr')\n",
      "/tmp/ipykernel_2392/1202660612.py:29: SerializationWarning: Unable to decode time axis into full numpy.datetime64[ns] objects, continuing using cftime.datetime objects instead, reason: dates out of range. To silence this warning use a coarser resolution 'time_unit' or specify 'use_cftime=True'.\n",
      "  ds = xr.open_dataset('gs://'+fn,engine='zarr')\n",
      "/tmp/ipykernel_2392/1202660612.py:29: SerializationWarning: Unable to decode time axis into full numpy.datetime64[ns] objects, continuing using cftime.datetime objects instead, reason: dates out of range. To silence this warning use a coarser resolution 'time_unit' or specify 'use_cftime=True'.\n",
      "  ds = xr.open_dataset('gs://'+fn,engine='zarr')\n",
      "/tmp/ipykernel_2392/1202660612.py:29: SerializationWarning: Unable to decode time axis into full numpy.datetime64[ns] objects, continuing using cftime.datetime objects instead, reason: dates out of range. To silence this warning use a coarser resolution 'time_unit' or specify 'use_cftime=True'.\n",
      "  ds = xr.open_dataset('gs://'+fn,engine='zarr')\n",
      "/tmp/ipykernel_2392/1202660612.py:29: SerializationWarning: Unable to decode time axis into full numpy.datetime64[ns] objects, continuing using cftime.datetime objects instead, reason: dates out of range. To silence this warning use a coarser resolution 'time_unit' or specify 'use_cftime=True'.\n",
      "  ds = xr.open_dataset('gs://'+fn,engine='zarr')\n",
      "/tmp/ipykernel_2392/1202660612.py:29: SerializationWarning: Unable to decode time axis into full numpy.datetime64[ns] objects, continuing using cftime.datetime objects instead, reason: dates out of range. To silence this warning use a coarser resolution 'time_unit' or specify 'use_cftime=True'.\n",
      "  ds = xr.open_dataset('gs://'+fn,engine='zarr')\n",
      "/tmp/ipykernel_2392/1202660612.py:29: SerializationWarning: Unable to decode time axis into full numpy.datetime64[ns] objects, continuing using cftime.datetime objects instead, reason: dates out of range. To silence this warning use a coarser resolution 'time_unit' or specify 'use_cftime=True'.\n",
      "  ds = xr.open_dataset('gs://'+fn,engine='zarr')\n",
      "/tmp/ipykernel_2392/1202660612.py:29: SerializationWarning: Unable to decode time axis into full numpy.datetime64[ns] objects, continuing using cftime.datetime objects instead, reason: dates out of range. To silence this warning use a coarser resolution 'time_unit' or specify 'use_cftime=True'.\n",
      "  ds = xr.open_dataset('gs://'+fn,engine='zarr')\n",
      "/tmp/ipykernel_2392/1202660612.py:29: SerializationWarning: Unable to decode time axis into full numpy.datetime64[ns] objects, continuing using cftime.datetime objects instead, reason: dates out of range. To silence this warning use a coarser resolution 'time_unit' or specify 'use_cftime=True'.\n",
      "  ds = xr.open_dataset('gs://'+fn,engine='zarr')\n",
      "/tmp/ipykernel_2392/1202660612.py:29: SerializationWarning: Unable to decode time axis into full numpy.datetime64[ns] objects, continuing using cftime.datetime objects instead, reason: dates out of range. To silence this warning use a coarser resolution 'time_unit' or specify 'use_cftime=True'.\n",
      "  ds = xr.open_dataset('gs://'+fn,engine='zarr')\n",
      "/tmp/ipykernel_2392/1202660612.py:29: SerializationWarning: Unable to decode time axis into full numpy.datetime64[ns] objects, continuing using cftime.datetime objects instead, reason: dates out of range. To silence this warning use a coarser resolution 'time_unit' or specify 'use_cftime=True'.\n",
      "  ds = xr.open_dataset('gs://'+fn,engine='zarr')\n",
      "/tmp/ipykernel_2392/1202660612.py:29: SerializationWarning: Unable to decode time axis into full numpy.datetime64[ns] objects, continuing using cftime.datetime objects instead, reason: dates out of range. To silence this warning use a coarser resolution 'time_unit' or specify 'use_cftime=True'.\n",
      "  ds = xr.open_dataset('gs://'+fn,engine='zarr')\n",
      "/tmp/ipykernel_2392/1202660612.py:29: SerializationWarning: Unable to decode time axis into full numpy.datetime64[ns] objects, continuing using cftime.datetime objects instead, reason: dates out of range. To silence this warning use a coarser resolution 'time_unit' or specify 'use_cftime=True'.\n",
      "  ds = xr.open_dataset('gs://'+fn,engine='zarr')\n",
      "/tmp/ipykernel_2392/1202660612.py:29: SerializationWarning: Unable to decode time axis into full numpy.datetime64[ns] objects, continuing using cftime.datetime objects instead, reason: dates out of range. To silence this warning use a coarser resolution 'time_unit' or specify 'use_cftime=True'.\n",
      "  ds = xr.open_dataset('gs://'+fn,engine='zarr')\n",
      "/tmp/ipykernel_2392/1202660612.py:29: SerializationWarning: Unable to decode time axis into full numpy.datetime64[ns] objects, continuing using cftime.datetime objects instead, reason: dates out of range. To silence this warning use a coarser resolution 'time_unit' or specify 'use_cftime=True'.\n",
      "  ds = xr.open_dataset('gs://'+fn,engine='zarr')\n",
      "/tmp/ipykernel_2392/1202660612.py:29: SerializationWarning: Unable to decode time axis into full numpy.datetime64[ns] objects, continuing using cftime.datetime objects instead, reason: dates out of range. To silence this warning use a coarser resolution 'time_unit' or specify 'use_cftime=True'.\n",
      "  ds = xr.open_dataset('gs://'+fn,engine='zarr')\n",
      "/tmp/ipykernel_2392/1202660612.py:29: SerializationWarning: Unable to decode time axis into full numpy.datetime64[ns] objects, continuing using cftime.datetime objects instead, reason: dates out of range. To silence this warning use a coarser resolution 'time_unit' or specify 'use_cftime=True'.\n",
      "  ds = xr.open_dataset('gs://'+fn,engine='zarr')\n",
      "/tmp/ipykernel_2392/1202660612.py:29: SerializationWarning: Unable to decode time axis into full numpy.datetime64[ns] objects, continuing using cftime.datetime objects instead, reason: dates out of range. To silence this warning use a coarser resolution 'time_unit' or specify 'use_cftime=True'.\n",
      "  ds = xr.open_dataset('gs://'+fn,engine='zarr')\n",
      "/tmp/ipykernel_2392/1202660612.py:29: SerializationWarning: Unable to decode time axis into full numpy.datetime64[ns] objects, continuing using cftime.datetime objects instead, reason: dates out of range. To silence this warning use a coarser resolution 'time_unit' or specify 'use_cftime=True'.\n",
      "  ds = xr.open_dataset('gs://'+fn,engine='zarr')\n"
     ]
    },
    {
     "data": {
      "application/vnd.jupyter.widget-view+json": {
       "model_id": "4a7933d483b04aca97e2159813476f7e",
       "version_major": 2,
       "version_minor": 0
      },
      "text/plain": [
       "  0%|          | 0/8 [00:00<?, ?it/s]"
      ]
     },
     "metadata": {},
     "output_type": "display_data"
    },
    {
     "data": {
      "application/vnd.jupyter.widget-view+json": {
       "model_id": "4c545a662da2471798f3188ce2e3da8e",
       "version_major": 2,
       "version_minor": 0
      },
      "text/plain": [
       "  0%|          | 0/8 [00:00<?, ?it/s]"
      ]
     },
     "metadata": {},
     "output_type": "display_data"
    },
    {
     "data": {
      "application/vnd.jupyter.widget-view+json": {
       "model_id": "c54de971ea1448c7b59ee0a7ac642dc4",
       "version_major": 2,
       "version_minor": 0
      },
      "text/plain": [
       "  0%|          | 0/12 [00:00<?, ?it/s]"
      ]
     },
     "metadata": {},
     "output_type": "display_data"
    },
    {
     "data": {
      "application/vnd.jupyter.widget-view+json": {
       "model_id": "110c310c6aac4be8b47577658b41f2fb",
       "version_major": 2,
       "version_minor": 0
      },
      "text/plain": [
       "  0%|          | 0/2 [00:00<?, ?it/s]"
      ]
     },
     "metadata": {},
     "output_type": "display_data"
    },
    {
     "data": {
      "application/vnd.jupyter.widget-view+json": {
       "model_id": "a459d5e2f4634da5aca2b0f13870add2",
       "version_major": 2,
       "version_minor": 0
      },
      "text/plain": [
       "  0%|          | 0/10 [00:00<?, ?it/s]"
      ]
     },
     "metadata": {},
     "output_type": "display_data"
    },
    {
     "name": "stderr",
     "output_type": "stream",
     "text": [
      "/tmp/ipykernel_2392/1202660612.py:29: SerializationWarning: Unable to decode time axis into full numpy.datetime64[ns] objects, continuing using cftime.datetime objects instead, reason: dates out of range. To silence this warning use a coarser resolution 'time_unit' or specify 'use_cftime=True'.\n",
      "  ds = xr.open_dataset('gs://'+fn,engine='zarr')\n",
      "/tmp/ipykernel_2392/1202660612.py:29: SerializationWarning: Unable to decode time axis into full numpy.datetime64[ns] objects, continuing using cftime.datetime objects instead, reason: dates out of range. To silence this warning use a coarser resolution 'time_unit' or specify 'use_cftime=True'.\n",
      "  ds = xr.open_dataset('gs://'+fn,engine='zarr')\n"
     ]
    },
    {
     "data": {
      "application/vnd.jupyter.widget-view+json": {
       "model_id": "f0d26f46db54425abd108c44c9606fb2",
       "version_major": 2,
       "version_minor": 0
      },
      "text/plain": [
       "  0%|          | 0/28 [00:00<?, ?it/s]"
      ]
     },
     "metadata": {},
     "output_type": "display_data"
    },
    {
     "data": {
      "application/vnd.jupyter.widget-view+json": {
       "model_id": "be2d68df52cd4254b0b9f62db73fad0a",
       "version_major": 2,
       "version_minor": 0
      },
      "text/plain": [
       "  0%|          | 0/4 [00:00<?, ?it/s]"
      ]
     },
     "metadata": {},
     "output_type": "display_data"
    },
    {
     "data": {
      "application/vnd.jupyter.widget-view+json": {
       "model_id": "178676e5f57c49749df88d37ff7a3650",
       "version_major": 2,
       "version_minor": 0
      },
      "text/plain": [
       "  0%|          | 0/24 [00:00<?, ?it/s]"
      ]
     },
     "metadata": {},
     "output_type": "display_data"
    },
    {
     "data": {
      "application/vnd.jupyter.widget-view+json": {
       "model_id": "20db47f65aa64ca89fb80ea72a2b58c6",
       "version_major": 2,
       "version_minor": 0
      },
      "text/plain": [
       "  0%|          | 0/100 [00:00<?, ?it/s]"
      ]
     },
     "metadata": {},
     "output_type": "display_data"
    },
    {
     "name": "stderr",
     "output_type": "stream",
     "text": [
      "/tmp/ipykernel_2392/1202660612.py:29: SerializationWarning: Unable to decode time axis into full numpy.datetime64[ns] objects, continuing using cftime.datetime objects instead, reason: dates out of range. To silence this warning use a coarser resolution 'time_unit' or specify 'use_cftime=True'.\n",
      "  ds = xr.open_dataset('gs://'+fn,engine='zarr')\n",
      "/tmp/ipykernel_2392/1202660612.py:29: SerializationWarning: Unable to decode time axis into full numpy.datetime64[ns] objects, continuing using cftime.datetime objects instead, reason: dates out of range. To silence this warning use a coarser resolution 'time_unit' or specify 'use_cftime=True'.\n",
      "  ds = xr.open_dataset('gs://'+fn,engine='zarr')\n",
      "/tmp/ipykernel_2392/1202660612.py:29: SerializationWarning: Unable to decode time axis into full numpy.datetime64[ns] objects, continuing using cftime.datetime objects instead, reason: dates out of range. To silence this warning use a coarser resolution 'time_unit' or specify 'use_cftime=True'.\n",
      "  ds = xr.open_dataset('gs://'+fn,engine='zarr')\n",
      "/tmp/ipykernel_2392/1202660612.py:29: SerializationWarning: Unable to decode time axis into full numpy.datetime64[ns] objects, continuing using cftime.datetime objects instead, reason: dates out of range. To silence this warning use a coarser resolution 'time_unit' or specify 'use_cftime=True'.\n",
      "  ds = xr.open_dataset('gs://'+fn,engine='zarr')\n"
     ]
    },
    {
     "data": {
      "application/vnd.jupyter.widget-view+json": {
       "model_id": "d9181f93a2ab457ca1d53564c26d65fb",
       "version_major": 2,
       "version_minor": 0
      },
      "text/plain": [
       "  0%|          | 0/12 [00:00<?, ?it/s]"
      ]
     },
     "metadata": {},
     "output_type": "display_data"
    },
    {
     "data": {
      "application/vnd.jupyter.widget-view+json": {
       "model_id": "ff9c0e6ef2d74f1ea1506eafd3686b58",
       "version_major": 2,
       "version_minor": 0
      },
      "text/plain": [
       "  0%|          | 0/208 [00:00<?, ?it/s]"
      ]
     },
     "metadata": {},
     "output_type": "display_data"
    },
    {
     "data": {
      "application/vnd.jupyter.widget-view+json": {
       "model_id": "1c52be8585a4405cbe74fe9ee51bcb77",
       "version_major": 2,
       "version_minor": 0
      },
      "text/plain": [
       "  0%|          | 0/2 [00:00<?, ?it/s]"
      ]
     },
     "metadata": {},
     "output_type": "display_data"
    },
    {
     "data": {
      "application/vnd.jupyter.widget-view+json": {
       "model_id": "16d2eaece979470fb1f77e0ef5027720",
       "version_major": 2,
       "version_minor": 0
      },
      "text/plain": [
       "  0%|          | 0/2 [00:00<?, ?it/s]"
      ]
     },
     "metadata": {},
     "output_type": "display_data"
    },
    {
     "data": {
      "application/vnd.jupyter.widget-view+json": {
       "model_id": "61e1cb5fadfb48859240d986f6657c63",
       "version_major": 2,
       "version_minor": 0
      },
      "text/plain": [
       "  0%|          | 0/28 [00:00<?, ?it/s]"
      ]
     },
     "metadata": {},
     "output_type": "display_data"
    },
    {
     "data": {
      "application/vnd.jupyter.widget-view+json": {
       "model_id": "9bad4a5892e24a8aaf7310b247630490",
       "version_major": 2,
       "version_minor": 0
      },
      "text/plain": [
       "  0%|          | 0/12 [00:00<?, ?it/s]"
      ]
     },
     "metadata": {},
     "output_type": "display_data"
    },
    {
     "data": {
      "application/vnd.jupyter.widget-view+json": {
       "model_id": "eb48bb0e98014ccf8e3d02c656063313",
       "version_major": 2,
       "version_minor": 0
      },
      "text/plain": [
       "  0%|          | 0/17 [00:00<?, ?it/s]"
      ]
     },
     "metadata": {},
     "output_type": "display_data"
    },
    {
     "data": {
      "application/vnd.jupyter.widget-view+json": {
       "model_id": "2188addbf1eb4a90a7debd1bf77ef57e",
       "version_major": 2,
       "version_minor": 0
      },
      "text/plain": [
       "  0%|          | 0/9 [00:00<?, ?it/s]"
      ]
     },
     "metadata": {},
     "output_type": "display_data"
    },
    {
     "data": {
      "application/vnd.jupyter.widget-view+json": {
       "model_id": "30438cf9f24f462dab838d2d80dcb94b",
       "version_major": 2,
       "version_minor": 0
      },
      "text/plain": [
       "  0%|          | 0/2 [00:00<?, ?it/s]"
      ]
     },
     "metadata": {},
     "output_type": "display_data"
    },
    {
     "data": {
      "application/vnd.jupyter.widget-view+json": {
       "model_id": "21845cd56ad84a5295000d2f575b5cf8",
       "version_major": 2,
       "version_minor": 0
      },
      "text/plain": [
       "  0%|          | 0/6 [00:00<?, ?it/s]"
      ]
     },
     "metadata": {},
     "output_type": "display_data"
    },
    {
     "data": {
      "application/vnd.jupyter.widget-view+json": {
       "model_id": "fdd8ec4e91884233ba9640c7e12c1930",
       "version_major": 2,
       "version_minor": 0
      },
      "text/plain": [
       "  0%|          | 0/21 [00:00<?, ?it/s]"
      ]
     },
     "metadata": {},
     "output_type": "display_data"
    },
    {
     "name": "stderr",
     "output_type": "stream",
     "text": [
      "/tmp/ipykernel_2392/1202660612.py:29: SerializationWarning: Unable to decode time axis into full numpy.datetime64[ns] objects, continuing using cftime.datetime objects instead, reason: dates out of range. To silence this warning use a coarser resolution 'time_unit' or specify 'use_cftime=True'.\n",
      "  ds = xr.open_dataset('gs://'+fn,engine='zarr')\n",
      "/tmp/ipykernel_2392/1202660612.py:29: SerializationWarning: Unable to decode time axis into full numpy.datetime64[ns] objects, continuing using cftime.datetime objects instead, reason: dates out of range. To silence this warning use a coarser resolution 'time_unit' or specify 'use_cftime=True'.\n",
      "  ds = xr.open_dataset('gs://'+fn,engine='zarr')\n",
      "/tmp/ipykernel_2392/1202660612.py:29: SerializationWarning: Unable to decode time axis into full numpy.datetime64[ns] objects, continuing using cftime.datetime objects instead, reason: dates out of range. To silence this warning use a coarser resolution 'time_unit' or specify 'use_cftime=True'.\n",
      "  ds = xr.open_dataset('gs://'+fn,engine='zarr')\n",
      "/tmp/ipykernel_2392/1202660612.py:29: SerializationWarning: Unable to decode time axis into full numpy.datetime64[ns] objects, continuing using cftime.datetime objects instead, reason: dates out of range. To silence this warning use a coarser resolution 'time_unit' or specify 'use_cftime=True'.\n",
      "  ds = xr.open_dataset('gs://'+fn,engine='zarr')\n",
      "/tmp/ipykernel_2392/1202660612.py:29: SerializationWarning: Unable to decode time axis into full numpy.datetime64[ns] objects, continuing using cftime.datetime objects instead, reason: dates out of range. To silence this warning use a coarser resolution 'time_unit' or specify 'use_cftime=True'.\n",
      "  ds = xr.open_dataset('gs://'+fn,engine='zarr')\n",
      "/tmp/ipykernel_2392/1202660612.py:29: SerializationWarning: Unable to decode time axis into full numpy.datetime64[ns] objects, continuing using cftime.datetime objects instead, reason: dates out of range. To silence this warning use a coarser resolution 'time_unit' or specify 'use_cftime=True'.\n",
      "  ds = xr.open_dataset('gs://'+fn,engine='zarr')\n",
      "/tmp/ipykernel_2392/1202660612.py:29: SerializationWarning: Unable to decode time axis into full numpy.datetime64[ns] objects, continuing using cftime.datetime objects instead, reason: dates out of range. To silence this warning use a coarser resolution 'time_unit' or specify 'use_cftime=True'.\n",
      "  ds = xr.open_dataset('gs://'+fn,engine='zarr')\n",
      "/tmp/ipykernel_2392/1202660612.py:29: SerializationWarning: Unable to decode time axis into full numpy.datetime64[ns] objects, continuing using cftime.datetime objects instead, reason: dates out of range. To silence this warning use a coarser resolution 'time_unit' or specify 'use_cftime=True'.\n",
      "  ds = xr.open_dataset('gs://'+fn,engine='zarr')\n",
      "/tmp/ipykernel_2392/1202660612.py:29: SerializationWarning: Unable to decode time axis into full numpy.datetime64[ns] objects, continuing using cftime.datetime objects instead, reason: dates out of range. To silence this warning use a coarser resolution 'time_unit' or specify 'use_cftime=True'.\n",
      "  ds = xr.open_dataset('gs://'+fn,engine='zarr')\n",
      "/tmp/ipykernel_2392/1202660612.py:29: SerializationWarning: Unable to decode time axis into full numpy.datetime64[ns] objects, continuing using cftime.datetime objects instead, reason: dates out of range. To silence this warning use a coarser resolution 'time_unit' or specify 'use_cftime=True'.\n",
      "  ds = xr.open_dataset('gs://'+fn,engine='zarr')\n",
      "/tmp/ipykernel_2392/1202660612.py:29: SerializationWarning: Unable to decode time axis into full numpy.datetime64[ns] objects, continuing using cftime.datetime objects instead, reason: dates out of range. To silence this warning use a coarser resolution 'time_unit' or specify 'use_cftime=True'.\n",
      "  ds = xr.open_dataset('gs://'+fn,engine='zarr')\n",
      "/tmp/ipykernel_2392/1202660612.py:29: SerializationWarning: Unable to decode time axis into full numpy.datetime64[ns] objects, continuing using cftime.datetime objects instead, reason: dates out of range. To silence this warning use a coarser resolution 'time_unit' or specify 'use_cftime=True'.\n",
      "  ds = xr.open_dataset('gs://'+fn,engine='zarr')\n",
      "/tmp/ipykernel_2392/1202660612.py:29: SerializationWarning: Unable to decode time axis into full numpy.datetime64[ns] objects, continuing using cftime.datetime objects instead, reason: dates out of range. To silence this warning use a coarser resolution 'time_unit' or specify 'use_cftime=True'.\n",
      "  ds = xr.open_dataset('gs://'+fn,engine='zarr')\n",
      "/tmp/ipykernel_2392/1202660612.py:29: SerializationWarning: Unable to decode time axis into full numpy.datetime64[ns] objects, continuing using cftime.datetime objects instead, reason: dates out of range. To silence this warning use a coarser resolution 'time_unit' or specify 'use_cftime=True'.\n",
      "  ds = xr.open_dataset('gs://'+fn,engine='zarr')\n"
     ]
    },
    {
     "data": {
      "application/vnd.jupyter.widget-view+json": {
       "model_id": "108d6d7b74364840ad7ca3a40fa2a592",
       "version_major": 2,
       "version_minor": 0
      },
      "text/plain": [
       "  0%|          | 0/60 [00:00<?, ?it/s]"
      ]
     },
     "metadata": {},
     "output_type": "display_data"
    },
    {
     "data": {
      "application/vnd.jupyter.widget-view+json": {
       "model_id": "b916dfe299ea4c9cbef215c35793a8fb",
       "version_major": 2,
       "version_minor": 0
      },
      "text/plain": [
       "  0%|          | 0/5 [00:00<?, ?it/s]"
      ]
     },
     "metadata": {},
     "output_type": "display_data"
    },
    {
     "data": {
      "application/vnd.jupyter.widget-view+json": {
       "model_id": "0d2a21d99e4d442fb5794b07350c4ec4",
       "version_major": 2,
       "version_minor": 0
      },
      "text/plain": [
       "  0%|          | 0/4 [00:00<?, ?it/s]"
      ]
     },
     "metadata": {},
     "output_type": "display_data"
    },
    {
     "data": {
      "application/vnd.jupyter.widget-view+json": {
       "model_id": "5e49965e30384ef9a4735825c2cc5a62",
       "version_major": 2,
       "version_minor": 0
      },
      "text/plain": [
       "  0%|          | 0/8 [00:00<?, ?it/s]"
      ]
     },
     "metadata": {},
     "output_type": "display_data"
    },
    {
     "data": {
      "application/vnd.jupyter.widget-view+json": {
       "model_id": "a885ed0e7d5446e39b4b49de0a3f1f5b",
       "version_major": 2,
       "version_minor": 0
      },
      "text/plain": [
       "  0%|          | 0/34 [00:00<?, ?it/s]"
      ]
     },
     "metadata": {},
     "output_type": "display_data"
    },
    {
     "data": {
      "application/vnd.jupyter.widget-view+json": {
       "model_id": "1ed7488483144af3ab82c3d484928d05",
       "version_major": 2,
       "version_minor": 0
      },
      "text/plain": [
       "  0%|          | 0/56 [00:00<?, ?it/s]"
      ]
     },
     "metadata": {},
     "output_type": "display_data"
    },
    {
     "data": {
      "application/vnd.jupyter.widget-view+json": {
       "model_id": "9d9ef33b50b74f01b848f899d3b57656",
       "version_major": 2,
       "version_minor": 0
      },
      "text/plain": [
       "  0%|          | 0/170 [00:00<?, ?it/s]"
      ]
     },
     "metadata": {},
     "output_type": "display_data"
    },
    {
     "data": {
      "application/vnd.jupyter.widget-view+json": {
       "model_id": "d53f6ee3e8cf4878a2c84f5cc93efdf3",
       "version_major": 2,
       "version_minor": 0
      },
      "text/plain": [
       "  0%|          | 0/3 [00:00<?, ?it/s]"
      ]
     },
     "metadata": {},
     "output_type": "display_data"
    },
    {
     "data": {
      "application/vnd.jupyter.widget-view+json": {
       "model_id": "7e1e66eb8531492fb76f62903f8a2bf3",
       "version_major": 2,
       "version_minor": 0
      },
      "text/plain": [
       "  0%|          | 0/12 [00:00<?, ?it/s]"
      ]
     },
     "metadata": {},
     "output_type": "display_data"
    },
    {
     "data": {
      "application/vnd.jupyter.widget-view+json": {
       "model_id": "6f09f9c0b5ee48e995260353b2eba33a",
       "version_major": 2,
       "version_minor": 0
      },
      "text/plain": [
       "  0%|          | 0/200 [00:00<?, ?it/s]"
      ]
     },
     "metadata": {},
     "output_type": "display_data"
    }
   ],
   "source": [
    "def get_lonlat_idx_nearest_to_tgs(tg_ds,ds):\n",
    "    '''tg_ds = xr.DataSet containing 'lon' and 'lat' coordinates of tide gauges\n",
    "    ds    = xr.DataSet containing CMIP6 data to subset\n",
    "    '''\n",
    "    lon_name = list(k for k in ds.dims if 'lon' in k)[0] #find lon/lat coordinate names\n",
    "    lat_name = list(k for k in ds.dims if 'lat' in k)[0]\n",
    "    \n",
    "    #compute distances between TG coordinates and grid cell centers\n",
    "    distances = 2*np.arcsin( np.sqrt(\n",
    "        np.sin( (np.pi/180) * 0.5*(ds[lat_name]-tg_ds.lat) )**2 +\n",
    "        np.cos((np.pi/180)*tg_ds.lat)*np.cos((np.pi/180)*ds[lat_name])*np.sin((np.pi/180)*0.5*(ds[lon_name]-tg_ds.lon))**2) )\n",
    "\n",
    "    distances = distances.where(np.isfinite(ds.ibe.isel(time=0,drop=True).mean(dim=('member_id'))),1e30)\n",
    "    idx_nearest = distances.argmin(dim=[lon_name,lat_name]) #find indices of nearest grid cells\n",
    "    return idx_nearest\n",
    "    \n",
    "input_path = 'gs://leap-persistent/timh37/CMIP6/ibe_1x1'\n",
    "output_path = 'gs://leap-persistent/timh37/CMIP6/ibe_psmsl'\n",
    "\n",
    "target_grid = xr.open_dataset('../month_means_1993_2022_psmsl.nc')\n",
    "target_grid.attrs['name'] = 'psmsl'\n",
    "\n",
    "model_dirs = [k for k in fs.ls(input_path) if 'DS_Store' not in k]\n",
    "\n",
    "for model_dir in model_dirs:\n",
    "    fns = [k for k in fs.ls(model_dir) if 'DS_Store' not in k]\n",
    "    \n",
    "    for fn in tqdm(fns):\n",
    "        ds = xr.open_dataset('gs://'+fn,engine='zarr')\n",
    "        idx_nearest = get_lonlat_idx_nearest_to_tgs(target_grid,ds)\n",
    "        \n",
    "        ds_new = ds.isel(lon=idx_nearest['lon'],lat=idx_nearest['lat'])\n",
    "    \n",
    "        ##ds_new['tg'] = tgs\n",
    "        ds_new['lat'] = ('id',target_grid.lat.values)\n",
    "        ds_new['lon'] = ('id',target_grid.lon.values)\n",
    "        ds_new.to_zarr('gs://'+fn.replace('1x1','psmsl'),mode='w',zarr_format=2)"
   ]
  },
  {
   "cell_type": "code",
   "execution_count": null,
   "id": "53ed963b-017c-419a-8524-fbff401b2b0e",
   "metadata": {},
   "outputs": [],
   "source": []
  }
 ],
 "metadata": {
  "kernelspec": {
   "display_name": "Python 3 (ipykernel)",
   "language": "python",
   "name": "python3"
  },
  "language_info": {
   "codemirror_mode": {
    "name": "ipython",
    "version": 3
   },
   "file_extension": ".py",
   "mimetype": "text/x-python",
   "name": "python",
   "nbconvert_exporter": "python",
   "pygments_lexer": "ipython3",
   "version": "3.12.11"
  }
 },
 "nbformat": 4,
 "nbformat_minor": 5
}
