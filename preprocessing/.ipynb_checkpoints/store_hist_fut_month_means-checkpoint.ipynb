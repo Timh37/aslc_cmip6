{
 "cells": [
  {
   "cell_type": "code",
   "execution_count": 1,
   "id": "9f0ff811-96d3-4c4b-ae9c-5c34ea682794",
   "metadata": {},
   "outputs": [
    {
     "name": "stderr",
     "output_type": "stream",
     "text": [
      "/tmp/ipykernel_330/2254304399.py:9: TqdmExperimentalWarning: Using `tqdm.autonotebook.tqdm` in notebook mode. Use `tqdm.tqdm` instead to force console mode (e.g. in jupyter console)\n",
      "  from tqdm.autonotebook import tqdm\n",
      "/srv/conda/envs/notebook/lib/python3.12/site-packages/esmpy/interface/loadESMF.py:94: VersionWarning: ESMF installation version 8.8.0, ESMPy version 8.8.0b0\n",
      "  warnings.warn(\"ESMF installation version {}, ESMPy version {}\".format(\n"
     ]
    }
   ],
   "source": [
    "import numpy as np\n",
    "import xarray as xr\n",
    "import dask\n",
    "import cftime\n",
    "import os\n",
    "import intake\n",
    "import pandas as pd\n",
    "from collections import defaultdict\n",
    "from tqdm.autonotebook import tqdm\n",
    "from xmip.postprocessing import combine_datasets, concat_members,concat_experiments\n",
    "import gcsfs\n",
    "from datetime import datetime\n",
    "fs = gcsfs.GCSFileSystem() #list stores, stripp zarr from filename, load "
   ]
  },
  {
   "cell_type": "code",
   "execution_count": 4,
   "id": "bba272ae-05fc-4195-a4ff-f0c90e43f3af",
   "metadata": {},
   "outputs": [
    {
     "data": {
      "text/plain": [
       "['leap-persistent/timh37/CMIP6/aslc_change/range_change_1x1_ssp126.zarr']"
      ]
     },
     "execution_count": 4,
     "metadata": {},
     "output_type": "execute_result"
    }
   ],
   "source": [
    "fs.ls('gs://leap-persistent/timh37/CMIP6/aslc_change')"
   ]
  },
  {
   "cell_type": "markdown",
   "id": "cac55f9b-d5c3-46e7-8167-6ca6b216e764",
   "metadata": {},
   "source": [
    "Configure the script:"
   ]
  },
  {
   "cell_type": "code",
   "execution_count": 2,
   "id": "c00ac1c3-f79f-42a7-b456-614270d4fe45",
   "metadata": {},
   "outputs": [],
   "source": [
    "def get_ddict_of_model_datasets(input_path,ssps):\n",
    "    #input path must contain directories organized by model\n",
    "    ddict = defaultdict(dict)\n",
    "    for model_path in tqdm(fs.ls(input_path)):\n",
    "        model_datasets = []\n",
    "        model_ssps = []\n",
    "        #print(model_path)\n",
    "        for s,ssp in enumerate(ssps):\n",
    "            #print(ssp)\n",
    "            model_fns = ['gs://'+k for k in fs.ls(model_path) if ssp in k]\n",
    "            if len(model_fns)>0:\n",
    "                model_ds = xr.open_mfdataset(model_fns,engine='zarr',combine='nested',coords='minimal',compat='override',chunks={'source_id':1,'member_id':1,'lon':1000,'lat':1000,'time':200})\n",
    "                model_datasets.append(model_ds)\n",
    "                model_ssps.append(ssp)\n",
    "        \n",
    "        if len(model_ssps)>0:\n",
    "            model_ssps_ds = xr.concat(model_datasets,dim='ssp',compat='override',coords='minimal')\n",
    "            model_ssps_ds['ssp'] = model_ssps\n",
    "        \n",
    "            ddict[str(model_ssps_ds.source_id)]=model_ssps_ds\n",
    "    return ddict\n",
    "\n",
    "def get_ddict_of_datasets(input_path,ssps):\n",
    "    #input path must contain directories organized by model\n",
    "    ddict = defaultdict(dict)\n",
    "    for model_path in tqdm(fs.ls(input_path)):\n",
    "        for ssp in ssps:\n",
    "            fns = ['gs://'+k for k in fs.ls(model_path) if ssp in k]\n",
    "            for fn in fns:\n",
    "                ds = xr.open_dataset(fn,engine='zarr',use_cftime=True,chunks={'lat':500,'lon':500,'time':200})\n",
    "                ds = ds.expand_dims(dim={'experiment_id':[str(ssp)]})\n",
    "                ds.attrs['experiment_id'] = ssp\n",
    "                ddict[fn] = ds\n",
    "    return ddict\n",
    "    \n",
    "def add_years_months_to_coords(ds):\n",
    "    years = []\n",
    "    months = []\n",
    "    for k,ts in enumerate(ds.time.values):\n",
    "        try: #cant remember what this was for, is this even the right syntax?\n",
    "            years.append(ts.dt.year)\n",
    "            months.append(ts.dt.month)\n",
    "        except:\n",
    "            years.append(ts.year)\n",
    "            months.append(ts.month)\n",
    "    ds = ds.assign_coords({'year':('time',years),'month':('time',months)})\n",
    "    return ds\n",
    "\n",
    "def enough_numMonths_in_period(ds,period,tol=.95):\n",
    "    return len(ds.time) >= tol * 12 * (1+period[-1]-period[0])\n",
    "\n",
    "def derive_dict_of_month_means(ddict,hist,fut):\n",
    "    month_means = defaultdict(dict)\n",
    "    for key,ds in tqdm(ddict.items()):\n",
    "        #print(key)\n",
    "        try:\n",
    "            ds_hist = ds.sel(time=slice(str(hist[0]),str(hist[-1])))\n",
    "            ds_fut = ds.sel(time=slice(str(fut[0]),str(fut[-1])))\n",
    "            if not enough_numMonths_in_period(ds_hist,hist) or not enough_numMonths_in_period(ds_fut,fut):\n",
    "                print('dataset incomplete for historical and/or future periods, not including: '+key)\n",
    "                continue\n",
    "            month_means[key] = xr.concat((ds_hist.groupby(ds_hist.time.dt.month).mean(),\n",
    "                                       ds_fut.groupby(ds_fut.time.dt.month).mean()\n",
    "                                       ),dim='period')\n",
    "            month_means[key]['period'] = ['hist','fut']\n",
    "\n",
    "        except: #irregular calendar, issue with selecting years/months\n",
    "            print('Cannot select years/months due to time index issues, computing these coordinates manually, for: '+key)\n",
    "            ds = add_years_months_to_coords(ds)\n",
    "            ds_hist = ds.where((ds.year >= hist[0])&(ds.year <= hist[1]))\n",
    "            ds_fut = ds.where((ds.year >= fut[0])&(ds.year <= fut[1]))\n",
    "\n",
    "            if not enough_numMonths_in_period(ds_hist,hist) or not enough_numMonths_in_period(ds_fut,fut):\n",
    "                print('dataset incomplete for historical and/or future periods, not including: '+key)\n",
    "                continue\n",
    "            \n",
    "            month_means[key] = xr.concat((ds_hist.groupby(ds_hist.month).mean(),\n",
    "                                       ds_fut.groupby(ds_fut.month).mean()\n",
    "                                       ),dim='period')\n",
    "            month_means[key]['period'] = ['hist','fut']\n",
    "            \n",
    "    return month_means"
   ]
  },
  {
   "cell_type": "code",
   "execution_count": 3,
   "id": "295422c2-6743-4393-93e8-6dd2d478660b",
   "metadata": {
    "tags": []
   },
   "outputs": [],
   "source": [
    "query_var = 'zos' #variables to process #TODO: add option to add zos to ibe\n",
    "#ssps = ['ssp585']\n",
    "ssps = ['ssp126','ssp245','ssp370','ssp585'] #SSPs to process #(TODO: loop over multiple, streamline code!)\n",
    "input_path = 'gs://leap-persistent/timh37/CMIP6/zos_psmsl'\n",
    "output_path = 'gs://leap-persistent/timh37/CMIP6/zos_psmsl_month_means'\n",
    "hist = [1993,2022]\n",
    "fut = [2071,2100]"
   ]
  },
  {
   "cell_type": "markdown",
   "id": "a2066879-0d17-4c2e-bcd6-dba3da23b756",
   "metadata": {},
   "source": [
    "Generate dictionary of month means per model:"
   ]
  },
  {
   "cell_type": "code",
   "execution_count": 4,
   "id": "0d314f3d-0e2a-425f-94ce-a5f3d9b9fde9",
   "metadata": {},
   "outputs": [
    {
     "data": {
      "application/vnd.jupyter.widget-view+json": {
       "model_id": "a185ce942630415cb46b1f8a474a2ecf",
       "version_major": 2,
       "version_minor": 0
      },
      "text/plain": [
       "  0%|          | 0/41 [00:00<?, ?it/s]"
      ]
     },
     "metadata": {},
     "output_type": "display_data"
    },
    {
     "data": {
      "application/vnd.jupyter.widget-view+json": {
       "model_id": "f26b0ba5e85843c295076782ba7f8a8d",
       "version_major": 2,
       "version_minor": 0
      },
      "text/plain": [
       "  0%|          | 0/1090 [00:00<?, ?it/s]"
      ]
     },
     "metadata": {},
     "output_type": "display_data"
    },
    {
     "name": "stdout",
     "output_type": "stream",
     "text": [
      "dataset incomplete for historical and/or future periods, not including: gs://leap-persistent/timh37/CMIP6/zos_psmsl/CESM2-WACCM/CESM2-WACCM.gn.Omon.r2i1p1f1.zos.hist_ssp370.1980-2055\n",
      "dataset incomplete for historical and/or future periods, not including: gs://leap-persistent/timh37/CMIP6/zos_psmsl/CESM2-WACCM/CESM2-WACCM.gn.Omon.r3i1p1f1.zos.hist_ssp370.1980-2055\n",
      "dataset incomplete for historical and/or future periods, not including: gs://leap-persistent/timh37/CMIP6/zos_psmsl/CNRM-CM6-1/CNRM-CM6-1.gn.Omon.r10i1p1f2.zos.hist_ssp245.1980-2020\n",
      "dataset incomplete for historical and/or future periods, not including: gs://leap-persistent/timh37/CMIP6/zos_psmsl/CNRM-CM6-1/CNRM-CM6-1.gn.Omon.r7i1p1f2.zos.hist_ssp245.1980-2020\n",
      "dataset incomplete for historical and/or future periods, not including: gs://leap-persistent/timh37/CMIP6/zos_psmsl/CNRM-CM6-1/CNRM-CM6-1.gn.Omon.r8i1p1f2.zos.hist_ssp245.1980-2020\n",
      "dataset incomplete for historical and/or future periods, not including: gs://leap-persistent/timh37/CMIP6/zos_psmsl/CNRM-CM6-1/CNRM-CM6-1.gn.Omon.r9i1p1f2.zos.hist_ssp245.1980-2020\n",
      "dataset incomplete for historical and/or future periods, not including: gs://leap-persistent/timh37/CMIP6/zos_psmsl/EC-Earth3-AerChem/EC-Earth3-AerChem.gn.Omon.r4i1p1f1.zos.hist_ssp245.1980-2064\n",
      "dataset incomplete for historical and/or future periods, not including: gs://leap-persistent/timh37/CMIP6/zos_psmsl/EC-Earth3-AerChem/EC-Earth3-AerChem.gn.Omon.r4i1p1f1.zos.hist_ssp370.1980-2055\n",
      "dataset incomplete for historical and/or future periods, not including: gs://leap-persistent/timh37/CMIP6/zos_psmsl/HadGEM3-GC31-LL/HadGEM3-GC31-LL.gn.Omon.r11i1p1f3.zos.hist_ssp245.1980-2020\n",
      "dataset incomplete for historical and/or future periods, not including: gs://leap-persistent/timh37/CMIP6/zos_psmsl/HadGEM3-GC31-LL/HadGEM3-GC31-LL.gn.Omon.r12i1p1f3.zos.hist_ssp245.1980-2020\n",
      "dataset incomplete for historical and/or future periods, not including: gs://leap-persistent/timh37/CMIP6/zos_psmsl/HadGEM3-GC31-LL/HadGEM3-GC31-LL.gn.Omon.r13i1p1f3.zos.hist_ssp245.1980-2020\n",
      "dataset incomplete for historical and/or future periods, not including: gs://leap-persistent/timh37/CMIP6/zos_psmsl/HadGEM3-GC31-LL/HadGEM3-GC31-LL.gn.Omon.r14i1p1f3.zos.hist_ssp245.1980-2020\n",
      "dataset incomplete for historical and/or future periods, not including: gs://leap-persistent/timh37/CMIP6/zos_psmsl/HadGEM3-GC31-LL/HadGEM3-GC31-LL.gn.Omon.r15i1p1f3.zos.hist_ssp245.1980-2020\n",
      "dataset incomplete for historical and/or future periods, not including: gs://leap-persistent/timh37/CMIP6/zos_psmsl/HadGEM3-GC31-LL/HadGEM3-GC31-LL.gn.Omon.r16i1p1f3.zos.hist_ssp245.1980-2020\n",
      "dataset incomplete for historical and/or future periods, not including: gs://leap-persistent/timh37/CMIP6/zos_psmsl/HadGEM3-GC31-LL/HadGEM3-GC31-LL.gn.Omon.r17i1p1f3.zos.hist_ssp245.1980-2020\n",
      "dataset incomplete for historical and/or future periods, not including: gs://leap-persistent/timh37/CMIP6/zos_psmsl/HadGEM3-GC31-LL/HadGEM3-GC31-LL.gn.Omon.r18i1p1f3.zos.hist_ssp245.1980-2020\n",
      "dataset incomplete for historical and/or future periods, not including: gs://leap-persistent/timh37/CMIP6/zos_psmsl/HadGEM3-GC31-LL/HadGEM3-GC31-LL.gn.Omon.r19i1p1f3.zos.hist_ssp245.1980-2020\n",
      "dataset incomplete for historical and/or future periods, not including: gs://leap-persistent/timh37/CMIP6/zos_psmsl/HadGEM3-GC31-LL/HadGEM3-GC31-LL.gn.Omon.r20i1p1f3.zos.hist_ssp245.1980-2020\n",
      "dataset incomplete for historical and/or future periods, not including: gs://leap-persistent/timh37/CMIP6/zos_psmsl/HadGEM3-GC31-LL/HadGEM3-GC31-LL.gn.Omon.r21i1p1f3.zos.hist_ssp245.1980-2020\n",
      "dataset incomplete for historical and/or future periods, not including: gs://leap-persistent/timh37/CMIP6/zos_psmsl/HadGEM3-GC31-LL/HadGEM3-GC31-LL.gn.Omon.r22i1p1f3.zos.hist_ssp245.1980-2020\n",
      "dataset incomplete for historical and/or future periods, not including: gs://leap-persistent/timh37/CMIP6/zos_psmsl/HadGEM3-GC31-LL/HadGEM3-GC31-LL.gn.Omon.r23i1p1f3.zos.hist_ssp245.1980-2020\n",
      "dataset incomplete for historical and/or future periods, not including: gs://leap-persistent/timh37/CMIP6/zos_psmsl/HadGEM3-GC31-LL/HadGEM3-GC31-LL.gn.Omon.r24i1p1f3.zos.hist_ssp245.1980-2020\n",
      "dataset incomplete for historical and/or future periods, not including: gs://leap-persistent/timh37/CMIP6/zos_psmsl/HadGEM3-GC31-LL/HadGEM3-GC31-LL.gn.Omon.r25i1p1f3.zos.hist_ssp245.1980-2020\n",
      "dataset incomplete for historical and/or future periods, not including: gs://leap-persistent/timh37/CMIP6/zos_psmsl/HadGEM3-GC31-LL/HadGEM3-GC31-LL.gn.Omon.r26i1p1f3.zos.hist_ssp245.1980-2020\n",
      "dataset incomplete for historical and/or future periods, not including: gs://leap-persistent/timh37/CMIP6/zos_psmsl/HadGEM3-GC31-LL/HadGEM3-GC31-LL.gn.Omon.r27i1p1f3.zos.hist_ssp245.1980-2020\n",
      "dataset incomplete for historical and/or future periods, not including: gs://leap-persistent/timh37/CMIP6/zos_psmsl/HadGEM3-GC31-LL/HadGEM3-GC31-LL.gn.Omon.r28i1p1f3.zos.hist_ssp245.1980-2020\n",
      "dataset incomplete for historical and/or future periods, not including: gs://leap-persistent/timh37/CMIP6/zos_psmsl/HadGEM3-GC31-LL/HadGEM3-GC31-LL.gn.Omon.r29i1p1f3.zos.hist_ssp245.1980-2020\n",
      "dataset incomplete for historical and/or future periods, not including: gs://leap-persistent/timh37/CMIP6/zos_psmsl/HadGEM3-GC31-LL/HadGEM3-GC31-LL.gn.Omon.r30i1p1f3.zos.hist_ssp245.1980-2020\n",
      "dataset incomplete for historical and/or future periods, not including: gs://leap-persistent/timh37/CMIP6/zos_psmsl/HadGEM3-GC31-LL/HadGEM3-GC31-LL.gn.Omon.r31i1p1f3.zos.hist_ssp245.1980-2020\n",
      "dataset incomplete for historical and/or future periods, not including: gs://leap-persistent/timh37/CMIP6/zos_psmsl/HadGEM3-GC31-LL/HadGEM3-GC31-LL.gn.Omon.r32i1p1f3.zos.hist_ssp245.1980-2020\n",
      "dataset incomplete for historical and/or future periods, not including: gs://leap-persistent/timh37/CMIP6/zos_psmsl/HadGEM3-GC31-LL/HadGEM3-GC31-LL.gn.Omon.r33i1p1f3.zos.hist_ssp245.1980-2020\n",
      "dataset incomplete for historical and/or future periods, not including: gs://leap-persistent/timh37/CMIP6/zos_psmsl/HadGEM3-GC31-LL/HadGEM3-GC31-LL.gn.Omon.r34i1p1f3.zos.hist_ssp245.1980-2020\n",
      "dataset incomplete for historical and/or future periods, not including: gs://leap-persistent/timh37/CMIP6/zos_psmsl/HadGEM3-GC31-LL/HadGEM3-GC31-LL.gn.Omon.r35i1p1f3.zos.hist_ssp245.1980-2020\n",
      "dataset incomplete for historical and/or future periods, not including: gs://leap-persistent/timh37/CMIP6/zos_psmsl/HadGEM3-GC31-LL/HadGEM3-GC31-LL.gn.Omon.r36i1p1f3.zos.hist_ssp245.1980-2020\n",
      "dataset incomplete for historical and/or future periods, not including: gs://leap-persistent/timh37/CMIP6/zos_psmsl/HadGEM3-GC31-LL/HadGEM3-GC31-LL.gn.Omon.r37i1p1f3.zos.hist_ssp245.1980-2020\n",
      "dataset incomplete for historical and/or future periods, not including: gs://leap-persistent/timh37/CMIP6/zos_psmsl/HadGEM3-GC31-LL/HadGEM3-GC31-LL.gn.Omon.r38i1p1f3.zos.hist_ssp245.1980-2020\n",
      "dataset incomplete for historical and/or future periods, not including: gs://leap-persistent/timh37/CMIP6/zos_psmsl/HadGEM3-GC31-LL/HadGEM3-GC31-LL.gn.Omon.r39i1p1f3.zos.hist_ssp245.1980-2020\n",
      "dataset incomplete for historical and/or future periods, not including: gs://leap-persistent/timh37/CMIP6/zos_psmsl/HadGEM3-GC31-LL/HadGEM3-GC31-LL.gn.Omon.r40i1p1f3.zos.hist_ssp245.1980-2020\n",
      "dataset incomplete for historical and/or future periods, not including: gs://leap-persistent/timh37/CMIP6/zos_psmsl/HadGEM3-GC31-LL/HadGEM3-GC31-LL.gn.Omon.r41i1p1f3.zos.hist_ssp245.1980-2020\n",
      "dataset incomplete for historical and/or future periods, not including: gs://leap-persistent/timh37/CMIP6/zos_psmsl/HadGEM3-GC31-LL/HadGEM3-GC31-LL.gn.Omon.r42i1p1f3.zos.hist_ssp245.1980-2020\n",
      "dataset incomplete for historical and/or future periods, not including: gs://leap-persistent/timh37/CMIP6/zos_psmsl/HadGEM3-GC31-LL/HadGEM3-GC31-LL.gn.Omon.r43i1p1f3.zos.hist_ssp245.1980-2020\n",
      "dataset incomplete for historical and/or future periods, not including: gs://leap-persistent/timh37/CMIP6/zos_psmsl/HadGEM3-GC31-LL/HadGEM3-GC31-LL.gn.Omon.r44i1p1f3.zos.hist_ssp245.1980-2020\n",
      "dataset incomplete for historical and/or future periods, not including: gs://leap-persistent/timh37/CMIP6/zos_psmsl/HadGEM3-GC31-LL/HadGEM3-GC31-LL.gn.Omon.r45i1p1f3.zos.hist_ssp245.1980-2020\n",
      "dataset incomplete for historical and/or future periods, not including: gs://leap-persistent/timh37/CMIP6/zos_psmsl/HadGEM3-GC31-LL/HadGEM3-GC31-LL.gn.Omon.r46i1p1f3.zos.hist_ssp245.1980-2020\n",
      "dataset incomplete for historical and/or future periods, not including: gs://leap-persistent/timh37/CMIP6/zos_psmsl/HadGEM3-GC31-LL/HadGEM3-GC31-LL.gn.Omon.r47i1p1f3.zos.hist_ssp245.1980-2020\n",
      "dataset incomplete for historical and/or future periods, not including: gs://leap-persistent/timh37/CMIP6/zos_psmsl/HadGEM3-GC31-LL/HadGEM3-GC31-LL.gn.Omon.r48i1p1f3.zos.hist_ssp245.1980-2020\n",
      "dataset incomplete for historical and/or future periods, not including: gs://leap-persistent/timh37/CMIP6/zos_psmsl/HadGEM3-GC31-LL/HadGEM3-GC31-LL.gn.Omon.r49i1p1f3.zos.hist_ssp245.1980-2020\n",
      "dataset incomplete for historical and/or future periods, not including: gs://leap-persistent/timh37/CMIP6/zos_psmsl/HadGEM3-GC31-LL/HadGEM3-GC31-LL.gn.Omon.r50i1p1f3.zos.hist_ssp245.1980-2020\n",
      "dataset incomplete for historical and/or future periods, not including: gs://leap-persistent/timh37/CMIP6/zos_psmsl/HadGEM3-GC31-LL/HadGEM3-GC31-LL.gn.Omon.r51i1p1f3.zos.hist_ssp245.1980-2020\n",
      "dataset incomplete for historical and/or future periods, not including: gs://leap-persistent/timh37/CMIP6/zos_psmsl/HadGEM3-GC31-LL/HadGEM3-GC31-LL.gn.Omon.r52i1p1f3.zos.hist_ssp245.1980-2020\n",
      "dataset incomplete for historical and/or future periods, not including: gs://leap-persistent/timh37/CMIP6/zos_psmsl/HadGEM3-GC31-LL/HadGEM3-GC31-LL.gn.Omon.r53i1p1f3.zos.hist_ssp245.1980-2020\n",
      "dataset incomplete for historical and/or future periods, not including: gs://leap-persistent/timh37/CMIP6/zos_psmsl/HadGEM3-GC31-LL/HadGEM3-GC31-LL.gn.Omon.r54i1p1f3.zos.hist_ssp245.1980-2020\n",
      "dataset incomplete for historical and/or future periods, not including: gs://leap-persistent/timh37/CMIP6/zos_psmsl/HadGEM3-GC31-LL/HadGEM3-GC31-LL.gn.Omon.r55i1p1f3.zos.hist_ssp245.1980-2020\n",
      "dataset incomplete for historical and/or future periods, not including: gs://leap-persistent/timh37/CMIP6/zos_psmsl/HadGEM3-GC31-LL/HadGEM3-GC31-LL.gn.Omon.r56i1p1f3.zos.hist_ssp245.1980-2020\n",
      "dataset incomplete for historical and/or future periods, not including: gs://leap-persistent/timh37/CMIP6/zos_psmsl/HadGEM3-GC31-LL/HadGEM3-GC31-LL.gn.Omon.r57i1p1f3.zos.hist_ssp245.1980-2020\n",
      "dataset incomplete for historical and/or future periods, not including: gs://leap-persistent/timh37/CMIP6/zos_psmsl/HadGEM3-GC31-LL/HadGEM3-GC31-LL.gn.Omon.r58i1p1f3.zos.hist_ssp245.1980-2020\n",
      "dataset incomplete for historical and/or future periods, not including: gs://leap-persistent/timh37/CMIP6/zos_psmsl/HadGEM3-GC31-LL/HadGEM3-GC31-LL.gn.Omon.r59i1p1f3.zos.hist_ssp245.1980-2020\n",
      "dataset incomplete for historical and/or future periods, not including: gs://leap-persistent/timh37/CMIP6/zos_psmsl/HadGEM3-GC31-LL/HadGEM3-GC31-LL.gn.Omon.r60i1p1f3.zos.hist_ssp245.1980-2020\n",
      "dataset incomplete for historical and/or future periods, not including: gs://leap-persistent/timh37/CMIP6/zos_psmsl/MIROC6/MIROC6.gn.Omon.r10i1p1f1.zos.hist_ssp245.1980-2039\n",
      "dataset incomplete for historical and/or future periods, not including: gs://leap-persistent/timh37/CMIP6/zos_psmsl/MIROC6/MIROC6.gn.Omon.r11i1p1f1.zos.hist_ssp245.1980-2039\n",
      "dataset incomplete for historical and/or future periods, not including: gs://leap-persistent/timh37/CMIP6/zos_psmsl/MIROC6/MIROC6.gn.Omon.r12i1p1f1.zos.hist_ssp245.1980-2039\n",
      "dataset incomplete for historical and/or future periods, not including: gs://leap-persistent/timh37/CMIP6/zos_psmsl/MIROC6/MIROC6.gn.Omon.r13i1p1f1.zos.hist_ssp245.1980-2039\n",
      "dataset incomplete for historical and/or future periods, not including: gs://leap-persistent/timh37/CMIP6/zos_psmsl/MIROC6/MIROC6.gn.Omon.r14i1p1f1.zos.hist_ssp245.1980-2039\n",
      "dataset incomplete for historical and/or future periods, not including: gs://leap-persistent/timh37/CMIP6/zos_psmsl/MIROC6/MIROC6.gn.Omon.r15i1p1f1.zos.hist_ssp245.1980-2039\n",
      "dataset incomplete for historical and/or future periods, not including: gs://leap-persistent/timh37/CMIP6/zos_psmsl/MIROC6/MIROC6.gn.Omon.r16i1p1f1.zos.hist_ssp245.1980-2039\n",
      "dataset incomplete for historical and/or future periods, not including: gs://leap-persistent/timh37/CMIP6/zos_psmsl/MIROC6/MIROC6.gn.Omon.r17i1p1f1.zos.hist_ssp245.1980-2039\n",
      "dataset incomplete for historical and/or future periods, not including: gs://leap-persistent/timh37/CMIP6/zos_psmsl/MIROC6/MIROC6.gn.Omon.r18i1p1f1.zos.hist_ssp245.1980-2039\n",
      "dataset incomplete for historical and/or future periods, not including: gs://leap-persistent/timh37/CMIP6/zos_psmsl/MIROC6/MIROC6.gn.Omon.r19i1p1f1.zos.hist_ssp245.1980-2039\n",
      "dataset incomplete for historical and/or future periods, not including: gs://leap-persistent/timh37/CMIP6/zos_psmsl/MIROC6/MIROC6.gn.Omon.r20i1p1f1.zos.hist_ssp245.1980-2039\n",
      "dataset incomplete for historical and/or future periods, not including: gs://leap-persistent/timh37/CMIP6/zos_psmsl/MIROC6/MIROC6.gn.Omon.r21i1p1f1.zos.hist_ssp245.1980-2039\n",
      "dataset incomplete for historical and/or future periods, not including: gs://leap-persistent/timh37/CMIP6/zos_psmsl/MIROC6/MIROC6.gn.Omon.r22i1p1f1.zos.hist_ssp245.1980-2039\n",
      "dataset incomplete for historical and/or future periods, not including: gs://leap-persistent/timh37/CMIP6/zos_psmsl/MIROC6/MIROC6.gn.Omon.r23i1p1f1.zos.hist_ssp245.1980-2039\n",
      "dataset incomplete for historical and/or future periods, not including: gs://leap-persistent/timh37/CMIP6/zos_psmsl/MIROC6/MIROC6.gn.Omon.r24i1p1f1.zos.hist_ssp245.1980-2039\n",
      "dataset incomplete for historical and/or future periods, not including: gs://leap-persistent/timh37/CMIP6/zos_psmsl/MIROC6/MIROC6.gn.Omon.r25i1p1f1.zos.hist_ssp245.1980-2039\n",
      "dataset incomplete for historical and/or future periods, not including: gs://leap-persistent/timh37/CMIP6/zos_psmsl/MIROC6/MIROC6.gn.Omon.r26i1p1f1.zos.hist_ssp245.1980-2039\n",
      "dataset incomplete for historical and/or future periods, not including: gs://leap-persistent/timh37/CMIP6/zos_psmsl/MIROC6/MIROC6.gn.Omon.r27i1p1f1.zos.hist_ssp245.1980-2039\n",
      "dataset incomplete for historical and/or future periods, not including: gs://leap-persistent/timh37/CMIP6/zos_psmsl/MIROC6/MIROC6.gn.Omon.r28i1p1f1.zos.hist_ssp245.1980-2039\n",
      "dataset incomplete for historical and/or future periods, not including: gs://leap-persistent/timh37/CMIP6/zos_psmsl/MIROC6/MIROC6.gn.Omon.r29i1p1f1.zos.hist_ssp245.1980-2039\n",
      "dataset incomplete for historical and/or future periods, not including: gs://leap-persistent/timh37/CMIP6/zos_psmsl/MIROC6/MIROC6.gn.Omon.r30i1p1f1.zos.hist_ssp245.1980-2039\n",
      "dataset incomplete for historical and/or future periods, not including: gs://leap-persistent/timh37/CMIP6/zos_psmsl/MIROC6/MIROC6.gn.Omon.r31i1p1f1.zos.hist_ssp245.1980-2039\n",
      "dataset incomplete for historical and/or future periods, not including: gs://leap-persistent/timh37/CMIP6/zos_psmsl/MIROC6/MIROC6.gn.Omon.r32i1p1f1.zos.hist_ssp245.1980-2039\n",
      "dataset incomplete for historical and/or future periods, not including: gs://leap-persistent/timh37/CMIP6/zos_psmsl/MIROC6/MIROC6.gn.Omon.r33i1p1f1.zos.hist_ssp245.1980-2039\n",
      "dataset incomplete for historical and/or future periods, not including: gs://leap-persistent/timh37/CMIP6/zos_psmsl/MIROC6/MIROC6.gn.Omon.r34i1p1f1.zos.hist_ssp245.1980-2039\n",
      "dataset incomplete for historical and/or future periods, not including: gs://leap-persistent/timh37/CMIP6/zos_psmsl/MIROC6/MIROC6.gn.Omon.r35i1p1f1.zos.hist_ssp245.1980-2039\n",
      "dataset incomplete for historical and/or future periods, not including: gs://leap-persistent/timh37/CMIP6/zos_psmsl/MIROC6/MIROC6.gn.Omon.r36i1p1f1.zos.hist_ssp245.1980-2039\n",
      "dataset incomplete for historical and/or future periods, not including: gs://leap-persistent/timh37/CMIP6/zos_psmsl/MIROC6/MIROC6.gn.Omon.r37i1p1f1.zos.hist_ssp245.1980-2039\n",
      "dataset incomplete for historical and/or future periods, not including: gs://leap-persistent/timh37/CMIP6/zos_psmsl/MIROC6/MIROC6.gn.Omon.r38i1p1f1.zos.hist_ssp245.1980-2039\n",
      "dataset incomplete for historical and/or future periods, not including: gs://leap-persistent/timh37/CMIP6/zos_psmsl/MIROC6/MIROC6.gn.Omon.r39i1p1f1.zos.hist_ssp245.1980-2039\n",
      "dataset incomplete for historical and/or future periods, not including: gs://leap-persistent/timh37/CMIP6/zos_psmsl/MIROC6/MIROC6.gn.Omon.r40i1p1f1.zos.hist_ssp245.1980-2039\n",
      "dataset incomplete for historical and/or future periods, not including: gs://leap-persistent/timh37/CMIP6/zos_psmsl/MIROC6/MIROC6.gn.Omon.r41i1p1f1.zos.hist_ssp245.1980-2039\n",
      "dataset incomplete for historical and/or future periods, not including: gs://leap-persistent/timh37/CMIP6/zos_psmsl/MIROC6/MIROC6.gn.Omon.r42i1p1f1.zos.hist_ssp245.1980-2039\n",
      "dataset incomplete for historical and/or future periods, not including: gs://leap-persistent/timh37/CMIP6/zos_psmsl/MIROC6/MIROC6.gn.Omon.r43i1p1f1.zos.hist_ssp245.1980-2039\n",
      "dataset incomplete for historical and/or future periods, not including: gs://leap-persistent/timh37/CMIP6/zos_psmsl/MIROC6/MIROC6.gn.Omon.r44i1p1f1.zos.hist_ssp245.1980-2039\n",
      "dataset incomplete for historical and/or future periods, not including: gs://leap-persistent/timh37/CMIP6/zos_psmsl/MIROC6/MIROC6.gn.Omon.r45i1p1f1.zos.hist_ssp245.1980-2039\n",
      "dataset incomplete for historical and/or future periods, not including: gs://leap-persistent/timh37/CMIP6/zos_psmsl/MIROC6/MIROC6.gn.Omon.r46i1p1f1.zos.hist_ssp245.1980-2039\n",
      "dataset incomplete for historical and/or future periods, not including: gs://leap-persistent/timh37/CMIP6/zos_psmsl/MIROC6/MIROC6.gn.Omon.r47i1p1f1.zos.hist_ssp245.1980-2039\n",
      "dataset incomplete for historical and/or future periods, not including: gs://leap-persistent/timh37/CMIP6/zos_psmsl/MIROC6/MIROC6.gn.Omon.r48i1p1f1.zos.hist_ssp245.1980-2039\n",
      "dataset incomplete for historical and/or future periods, not including: gs://leap-persistent/timh37/CMIP6/zos_psmsl/MIROC6/MIROC6.gn.Omon.r49i1p1f1.zos.hist_ssp245.1980-2039\n",
      "dataset incomplete for historical and/or future periods, not including: gs://leap-persistent/timh37/CMIP6/zos_psmsl/MIROC6/MIROC6.gn.Omon.r4i1p1f1.zos.hist_ssp245.1980-2039\n",
      "dataset incomplete for historical and/or future periods, not including: gs://leap-persistent/timh37/CMIP6/zos_psmsl/MIROC6/MIROC6.gn.Omon.r50i1p1f1.zos.hist_ssp245.1980-2039\n",
      "dataset incomplete for historical and/or future periods, not including: gs://leap-persistent/timh37/CMIP6/zos_psmsl/MIROC6/MIROC6.gn.Omon.r5i1p1f1.zos.hist_ssp245.1980-2039\n",
      "dataset incomplete for historical and/or future periods, not including: gs://leap-persistent/timh37/CMIP6/zos_psmsl/MIROC6/MIROC6.gn.Omon.r6i1p1f1.zos.hist_ssp245.1980-2039\n",
      "dataset incomplete for historical and/or future periods, not including: gs://leap-persistent/timh37/CMIP6/zos_psmsl/MIROC6/MIROC6.gn.Omon.r7i1p1f1.zos.hist_ssp245.1980-2039\n",
      "dataset incomplete for historical and/or future periods, not including: gs://leap-persistent/timh37/CMIP6/zos_psmsl/MIROC6/MIROC6.gn.Omon.r8i1p1f1.zos.hist_ssp245.1980-2039\n",
      "dataset incomplete for historical and/or future periods, not including: gs://leap-persistent/timh37/CMIP6/zos_psmsl/MIROC6/MIROC6.gn.Omon.r9i1p1f1.zos.hist_ssp245.1980-2039\n",
      "dataset incomplete for historical and/or future periods, not including: gs://leap-persistent/timh37/CMIP6/zos_psmsl/MPI-ESM-1-2-HAM/MPI-ESM-1-2-HAM.gn.Omon.r1i1p1f1.zos.hist_ssp370.1980-2055\n",
      "dataset incomplete for historical and/or future periods, not including: gs://leap-persistent/timh37/CMIP6/zos_psmsl/MPI-ESM-1-2-HAM/MPI-ESM-1-2-HAM.gn.Omon.r3i1p1f1.zos.hist_ssp370.1980-2055\n",
      "dataset incomplete for historical and/or future periods, not including: gs://leap-persistent/timh37/CMIP6/zos_psmsl/NorESM2-LM/NorESM2-LM.gn.Omon.r2i1p1f1.zos.hist_ssp370.1980-2054\n",
      "dataset incomplete for historical and/or future periods, not including: gs://leap-persistent/timh37/CMIP6/zos_psmsl/NorESM2-LM/NorESM2-LM.gn.Omon.r3i1p1f1.zos.hist_ssp370.1980-2054\n"
     ]
    }
   ],
   "source": [
    "ddict = {}\n",
    "ddict = get_ddict_of_datasets(input_path,ssps) #open datasets (grouped by model) into dictionary\n",
    "month_means = derive_dict_of_month_means(ddict,hist,fut) #compute month means for each dataset\n",
    "month_means = concat_members(month_means) #not sure why this also automatically combines experiment ids, but ok?"
   ]
  },
  {
   "cell_type": "code",
   "execution_count": 5,
   "id": "c6b050b8-b49c-4dc9-b6d1-913cb58b478b",
   "metadata": {},
   "outputs": [],
   "source": [
    "out_ddict = defaultdict(dict)\n",
    "for model in np.unique([v.source_id for v in month_means.values()]):\n",
    "    datasets = []\n",
    "    for k,v in month_means.items():\n",
    "        if v.source_id == model:\n",
    "            datasets.append(v)\n",
    "    model_dataset = xr.concat(datasets,coords='different',dim='experiment_id')\n",
    "    out_ddict[str(model)] = model_dataset\n",
    "    "
   ]
  },
  {
   "cell_type": "markdown",
   "id": "46154e04-d69a-4a65-891c-0081b74a4f87",
   "metadata": {},
   "source": [
    "Store:"
   ]
  },
  {
   "cell_type": "code",
   "execution_count": 6,
   "id": "c88858c9-06bd-46fd-bacf-23799b508855",
   "metadata": {},
   "outputs": [
    {
     "data": {
      "application/vnd.jupyter.widget-view+json": {
       "model_id": "d2aea113dac24ff2b1ef35fe53426b50",
       "version_major": 2,
       "version_minor": 0
      },
      "text/plain": [
       "  0%|          | 0/40 [00:00<?, ?it/s]"
      ]
     },
     "metadata": {},
     "output_type": "display_data"
    }
   ],
   "source": [
    "for key,ds in tqdm(out_ddict.items()):\n",
    "    fn = ds.source_id+'_'+query_var+'_month_means_hist'+str(hist[0])+'-'+str(hist[-1])+'_fut'+str(fut[0])+'-'+str(fut[-1])\n",
    "    \n",
    "    ds['member_id'] = ds['member_id'].astype('str')\n",
    "    ds['experiment_id'] = ds['experiment_id'].astype('str')\n",
    "    ds = ds.assign_coords({'source_id':ds.source_id})\n",
    "    try:\n",
    "        ds[query_var] = ds[query_var].chunk({'lat':500,'lon':500,'period':1,'member_id':50,'experiment_id':1,'month':12})\n",
    "    except:\n",
    "        ds[query_var] = ds[query_var].chunk({'id':1000,'period':1,'member_id':200,'experiment_id':1,'month':12})\n",
    "    ds.to_zarr(os.path.join(output_path,fn),mode='w')\n",
    "    ds.close()"
   ]
  },
  {
   "cell_type": "code",
   "execution_count": null,
   "id": "52656c16-1a4a-4ebc-8307-18237ee1b48d",
   "metadata": {},
   "outputs": [],
   "source": []
  }
 ],
 "metadata": {
  "kernelspec": {
   "display_name": "Python 3 (ipykernel)",
   "language": "python",
   "name": "python3"
  },
  "language_info": {
   "codemirror_mode": {
    "name": "ipython",
    "version": 3
   },
   "file_extension": ".py",
   "mimetype": "text/x-python",
   "name": "python",
   "nbconvert_exporter": "python",
   "pygments_lexer": "ipython3",
   "version": "3.12.11"
  }
 },
 "nbformat": 4,
 "nbformat_minor": 5
}
