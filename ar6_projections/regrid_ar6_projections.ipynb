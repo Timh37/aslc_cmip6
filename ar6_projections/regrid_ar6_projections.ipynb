{
 "cells": [
  {
   "cell_type": "code",
   "execution_count": 1,
   "id": "e7aa4290-59d1-43d9-a5f2-47deffc36378",
   "metadata": {},
   "outputs": [
    {
     "name": "stderr",
     "output_type": "stream",
     "text": [
      "/tmp/ipykernel_414/3994378589.py:3: TqdmExperimentalWarning: Using `tqdm.autonotebook.tqdm` in notebook mode. Use `tqdm.tqdm` instead to force console mode (e.g. in jupyter console)\n",
      "  from tqdm.autonotebook import tqdm\n"
     ]
    }
   ],
   "source": [
    "import numpy as np\n",
    "import xarray as xr\n",
    "from tqdm.autonotebook import tqdm\n",
    "import os \n",
    "\n",
    "def regrid_ar6_slc_nn(ar6_ds,target_grid):\n",
    "    #function for nearest neighbour interpolation of ipcc ar6 sea-level projections to a target grid, either regular lon(lon) x lat(lat) or a list of coordinates lon(point),lat(point)\n",
    "\n",
    "    lon_ar6 = ar6_ds.lon.values \n",
    "    lat_ar6 = ar6_ds.lat.values\n",
    "\n",
    "    target_dims = target_grid.dims\n",
    "    \n",
    "    if target_grid.lon.dims==target_grid.lat.dims:\n",
    "        lon_target,lat_target = target_grid.lon.values,target_grid.lat.values \n",
    "    else:\n",
    "        [lon_target,lat_target] = np.meshgrid(target_grid.lon.values,target_grid.lat.values) #mesh target grid lonlat\n",
    "\n",
    "    #find nearest ar6 neighbours to target iteratively (to-do: figure out if this is possible with xesmf quicker?\n",
    "    idx_nearest=[]\n",
    "    for i,(tlon,tlat) in tqdm(enumerate(zip(lon_target.flatten(),lat_target.flatten()))):\n",
    "        distances = 2*np.arcsin( np.sqrt(\n",
    "            np.sin( (np.pi/180) * 0.5*(lat_ar6-tlat) )**2 +\n",
    "            np.cos((np.pi/180)*tlat)*np.cos((np.pi/180)*lat_ar6)*np.sin((np.pi/180)*0.5*(lon_ar6-tlon))**2) )\n",
    "        idx_nearest.append(np.nanargmin(distances))\n",
    "    \n",
    "    #add nearest ar6 data to target grid\n",
    "    if target_grid.lon.dims==target_grid.lat.dims:\n",
    "        target_grid['sea_level_change'] = (['quantiles','years',list(target_dims.keys())[0]],ar6_ds.sea_level_change[:,:,idx_nearest].data)\n",
    "    else:\n",
    "        target_grid['sea_level_change'] = (['quantiles','years',list(target_dims.keys())[0],list(target_dims.keys())[1]],\n",
    "                                           np.reshape(ar6_ds.sea_level_change[:,:,idx_nearest].values,\n",
    "                                                      (len(ar6_ds.quantiles),len(ar6_ds.years),list(target_dims.values())[0],list(target_dims.values())[1])))\n",
    "        \n",
    "        \n",
    "    target_grid['quantiles'] = ar6_ds.quantiles\n",
    "    target_grid['years'] = ar6_ds.years\n",
    "    \n",
    "    return target_grid[['sea_level_change']]"
   ]
  },
  {
   "cell_type": "code",
   "execution_count": 2,
   "id": "a714dd2a-765e-4327-a792-9f5f505f63f0",
   "metadata": {
    "tags": []
   },
   "outputs": [
    {
     "data": {
      "application/vnd.jupyter.widget-view+json": {
       "model_id": "755a70d9528f4c3cab989a90891c11d5",
       "version_major": 2,
       "version_minor": 0
      },
      "text/plain": [
       "  0%|          | 0/4 [00:00<?, ?it/s]"
      ]
     },
     "metadata": {},
     "output_type": "display_data"
    },
    {
     "data": {
      "application/vnd.jupyter.widget-view+json": {
       "model_id": "37fadbaf103948aea6f9edc6196623a3",
       "version_major": 2,
       "version_minor": 0
      },
      "text/plain": [
       "0it [00:00, ?it/s]"
      ]
     },
     "metadata": {},
     "output_type": "display_data"
    },
    {
     "name": "stderr",
     "output_type": "stream",
     "text": [
      "/tmp/ipykernel_414/3994378589.py:21: RuntimeWarning: invalid value encountered in sqrt\n",
      "  distances = 2*np.arcsin( np.sqrt(\n",
      "/tmp/ipykernel_414/3994378589.py:21: RuntimeWarning: invalid value encountered in arcsin\n",
      "  distances = 2*np.arcsin( np.sqrt(\n",
      "/tmp/ipykernel_414/3994378589.py:30: FutureWarning: The return type of `Dataset.dims` will be changed to return a set of dimension names in future, in order to be more consistent with `DataArray.dims`. To access a mapping from dimension names to lengths, please use `Dataset.sizes`.\n",
      "  target_grid['sea_level_change'] = (['quantiles','years',list(target_dims.keys())[0],list(target_dims.keys())[1]],\n"
     ]
    },
    {
     "name": "stdout",
     "output_type": "stream",
     "text": [
      "Stored: /home/jovyan/cloud_zos/ar6_projections/original/total_ssp585_medium_confidence_values_1x1.nc\n"
     ]
    },
    {
     "name": "stderr",
     "output_type": "stream",
     "text": [
      "/tmp/ipykernel_414/3994378589.py:32: FutureWarning: The return type of `Dataset.dims` will be changed to return a set of dimension names in future, in order to be more consistent with `DataArray.dims`. To access a mapping from dimension names to lengths, please use `Dataset.sizes`.\n",
      "  (len(ar6_ds.quantiles),len(ar6_ds.years),list(target_dims.values())[0],list(target_dims.values())[1])))\n",
      "<frozen _collections_abc>:913: FutureWarning: The return type of `Dataset.dims` will be changed to return a set of dimension names in future, in order to be more consistent with `DataArray.dims`. To access a mapping from dimension names to lengths, please use `Dataset.sizes`.\n"
     ]
    },
    {
     "data": {
      "application/vnd.jupyter.widget-view+json": {
       "model_id": "dc4ad731bbdd4c74baaa116002215dbb",
       "version_major": 2,
       "version_minor": 0
      },
      "text/plain": [
       "0it [00:00, ?it/s]"
      ]
     },
     "metadata": {},
     "output_type": "display_data"
    },
    {
     "name": "stderr",
     "output_type": "stream",
     "text": [
      "/tmp/ipykernel_414/3994378589.py:28: FutureWarning: The return type of `Dataset.dims` will be changed to return a set of dimension names in future, in order to be more consistent with `DataArray.dims`. To access a mapping from dimension names to lengths, please use `Dataset.sizes`.\n",
      "  target_grid['sea_level_change'] = (['quantiles','years',list(target_dims.keys())[0]],ar6_ds.sea_level_change[:,:,idx_nearest].data)\n"
     ]
    },
    {
     "name": "stdout",
     "output_type": "stream",
     "text": [
      "Stored: /home/jovyan/cloud_zos/ar6_projections/original/total_ssp585_medium_confidence_values_psmsl.nc\n"
     ]
    },
    {
     "data": {
      "application/vnd.jupyter.widget-view+json": {
       "model_id": "f366b169f0ba476ca6d13ab4df631856",
       "version_major": 2,
       "version_minor": 0
      },
      "text/plain": [
       "0it [00:00, ?it/s]"
      ]
     },
     "metadata": {},
     "output_type": "display_data"
    },
    {
     "name": "stderr",
     "output_type": "stream",
     "text": [
      "/tmp/ipykernel_414/3994378589.py:21: RuntimeWarning: invalid value encountered in sqrt\n",
      "  distances = 2*np.arcsin( np.sqrt(\n",
      "/tmp/ipykernel_414/3994378589.py:21: RuntimeWarning: invalid value encountered in arcsin\n",
      "  distances = 2*np.arcsin( np.sqrt(\n",
      "/tmp/ipykernel_414/3994378589.py:30: FutureWarning: The return type of `Dataset.dims` will be changed to return a set of dimension names in future, in order to be more consistent with `DataArray.dims`. To access a mapping from dimension names to lengths, please use `Dataset.sizes`.\n",
      "  target_grid['sea_level_change'] = (['quantiles','years',list(target_dims.keys())[0],list(target_dims.keys())[1]],\n"
     ]
    },
    {
     "name": "stdout",
     "output_type": "stream",
     "text": [
      "Stored: /home/jovyan/cloud_zos/ar6_projections/original/total_ssp370_medium_confidence_values_1x1.nc\n"
     ]
    },
    {
     "name": "stderr",
     "output_type": "stream",
     "text": [
      "/tmp/ipykernel_414/3994378589.py:32: FutureWarning: The return type of `Dataset.dims` will be changed to return a set of dimension names in future, in order to be more consistent with `DataArray.dims`. To access a mapping from dimension names to lengths, please use `Dataset.sizes`.\n",
      "  (len(ar6_ds.quantiles),len(ar6_ds.years),list(target_dims.values())[0],list(target_dims.values())[1])))\n",
      "<frozen _collections_abc>:913: FutureWarning: The return type of `Dataset.dims` will be changed to return a set of dimension names in future, in order to be more consistent with `DataArray.dims`. To access a mapping from dimension names to lengths, please use `Dataset.sizes`.\n"
     ]
    },
    {
     "data": {
      "application/vnd.jupyter.widget-view+json": {
       "model_id": "b98150584d7b4e4694d2e1449cf5d611",
       "version_major": 2,
       "version_minor": 0
      },
      "text/plain": [
       "0it [00:00, ?it/s]"
      ]
     },
     "metadata": {},
     "output_type": "display_data"
    },
    {
     "name": "stderr",
     "output_type": "stream",
     "text": [
      "/tmp/ipykernel_414/3994378589.py:28: FutureWarning: The return type of `Dataset.dims` will be changed to return a set of dimension names in future, in order to be more consistent with `DataArray.dims`. To access a mapping from dimension names to lengths, please use `Dataset.sizes`.\n",
      "  target_grid['sea_level_change'] = (['quantiles','years',list(target_dims.keys())[0]],ar6_ds.sea_level_change[:,:,idx_nearest].data)\n"
     ]
    },
    {
     "name": "stdout",
     "output_type": "stream",
     "text": [
      "Stored: /home/jovyan/cloud_zos/ar6_projections/original/total_ssp370_medium_confidence_values_psmsl.nc\n"
     ]
    },
    {
     "data": {
      "application/vnd.jupyter.widget-view+json": {
       "model_id": "1f84c9702e384214ab321c6c0ba776a4",
       "version_major": 2,
       "version_minor": 0
      },
      "text/plain": [
       "0it [00:00, ?it/s]"
      ]
     },
     "metadata": {},
     "output_type": "display_data"
    },
    {
     "name": "stderr",
     "output_type": "stream",
     "text": [
      "/tmp/ipykernel_414/3994378589.py:21: RuntimeWarning: invalid value encountered in sqrt\n",
      "  distances = 2*np.arcsin( np.sqrt(\n",
      "/tmp/ipykernel_414/3994378589.py:21: RuntimeWarning: invalid value encountered in arcsin\n",
      "  distances = 2*np.arcsin( np.sqrt(\n",
      "/tmp/ipykernel_414/3994378589.py:30: FutureWarning: The return type of `Dataset.dims` will be changed to return a set of dimension names in future, in order to be more consistent with `DataArray.dims`. To access a mapping from dimension names to lengths, please use `Dataset.sizes`.\n",
      "  target_grid['sea_level_change'] = (['quantiles','years',list(target_dims.keys())[0],list(target_dims.keys())[1]],\n"
     ]
    },
    {
     "name": "stdout",
     "output_type": "stream",
     "text": [
      "Stored: /home/jovyan/cloud_zos/ar6_projections/original/total_ssp245_medium_confidence_values_1x1.nc\n"
     ]
    },
    {
     "name": "stderr",
     "output_type": "stream",
     "text": [
      "/tmp/ipykernel_414/3994378589.py:32: FutureWarning: The return type of `Dataset.dims` will be changed to return a set of dimension names in future, in order to be more consistent with `DataArray.dims`. To access a mapping from dimension names to lengths, please use `Dataset.sizes`.\n",
      "  (len(ar6_ds.quantiles),len(ar6_ds.years),list(target_dims.values())[0],list(target_dims.values())[1])))\n",
      "<frozen _collections_abc>:913: FutureWarning: The return type of `Dataset.dims` will be changed to return a set of dimension names in future, in order to be more consistent with `DataArray.dims`. To access a mapping from dimension names to lengths, please use `Dataset.sizes`.\n"
     ]
    },
    {
     "data": {
      "application/vnd.jupyter.widget-view+json": {
       "model_id": "b70059dfea4e45a08bb578d89b91a60d",
       "version_major": 2,
       "version_minor": 0
      },
      "text/plain": [
       "0it [00:00, ?it/s]"
      ]
     },
     "metadata": {},
     "output_type": "display_data"
    },
    {
     "name": "stderr",
     "output_type": "stream",
     "text": [
      "/tmp/ipykernel_414/3994378589.py:28: FutureWarning: The return type of `Dataset.dims` will be changed to return a set of dimension names in future, in order to be more consistent with `DataArray.dims`. To access a mapping from dimension names to lengths, please use `Dataset.sizes`.\n",
      "  target_grid['sea_level_change'] = (['quantiles','years',list(target_dims.keys())[0]],ar6_ds.sea_level_change[:,:,idx_nearest].data)\n"
     ]
    },
    {
     "name": "stdout",
     "output_type": "stream",
     "text": [
      "Stored: /home/jovyan/cloud_zos/ar6_projections/original/total_ssp245_medium_confidence_values_psmsl.nc\n"
     ]
    },
    {
     "data": {
      "application/vnd.jupyter.widget-view+json": {
       "model_id": "bebe674a111b4a2ea22e7eabb8a03f77",
       "version_major": 2,
       "version_minor": 0
      },
      "text/plain": [
       "0it [00:00, ?it/s]"
      ]
     },
     "metadata": {},
     "output_type": "display_data"
    },
    {
     "name": "stderr",
     "output_type": "stream",
     "text": [
      "/tmp/ipykernel_414/3994378589.py:21: RuntimeWarning: invalid value encountered in sqrt\n",
      "  distances = 2*np.arcsin( np.sqrt(\n",
      "/tmp/ipykernel_414/3994378589.py:21: RuntimeWarning: invalid value encountered in arcsin\n",
      "  distances = 2*np.arcsin( np.sqrt(\n",
      "/tmp/ipykernel_414/3994378589.py:30: FutureWarning: The return type of `Dataset.dims` will be changed to return a set of dimension names in future, in order to be more consistent with `DataArray.dims`. To access a mapping from dimension names to lengths, please use `Dataset.sizes`.\n",
      "  target_grid['sea_level_change'] = (['quantiles','years',list(target_dims.keys())[0],list(target_dims.keys())[1]],\n"
     ]
    },
    {
     "name": "stdout",
     "output_type": "stream",
     "text": [
      "Stored: /home/jovyan/cloud_zos/ar6_projections/original/total_ssp126_medium_confidence_values_1x1.nc\n"
     ]
    },
    {
     "name": "stderr",
     "output_type": "stream",
     "text": [
      "/tmp/ipykernel_414/3994378589.py:32: FutureWarning: The return type of `Dataset.dims` will be changed to return a set of dimension names in future, in order to be more consistent with `DataArray.dims`. To access a mapping from dimension names to lengths, please use `Dataset.sizes`.\n",
      "  (len(ar6_ds.quantiles),len(ar6_ds.years),list(target_dims.values())[0],list(target_dims.values())[1])))\n",
      "<frozen _collections_abc>:913: FutureWarning: The return type of `Dataset.dims` will be changed to return a set of dimension names in future, in order to be more consistent with `DataArray.dims`. To access a mapping from dimension names to lengths, please use `Dataset.sizes`.\n"
     ]
    },
    {
     "data": {
      "application/vnd.jupyter.widget-view+json": {
       "model_id": "c4038e5f0b4a4c48a01468636128f9dc",
       "version_major": 2,
       "version_minor": 0
      },
      "text/plain": [
       "0it [00:00, ?it/s]"
      ]
     },
     "metadata": {},
     "output_type": "display_data"
    },
    {
     "name": "stdout",
     "output_type": "stream",
     "text": [
      "Stored: /home/jovyan/cloud_zos/ar6_projections/original/total_ssp126_medium_confidence_values_psmsl.nc\n"
     ]
    },
    {
     "name": "stderr",
     "output_type": "stream",
     "text": [
      "/tmp/ipykernel_414/3994378589.py:28: FutureWarning: The return type of `Dataset.dims` will be changed to return a set of dimension names in future, in order to be more consistent with `DataArray.dims`. To access a mapping from dimension names to lengths, please use `Dataset.sizes`.\n",
      "  target_grid['sea_level_change'] = (['quantiles','years',list(target_dims.keys())[0]],ar6_ds.sea_level_change[:,:,idx_nearest].data)\n"
     ]
    }
   ],
   "source": [
    "ar6_fns = [os.path.join('/home/jovyan/cloud_zos/ar6_projections/original',k) for k in os.listdir('/home/jovyan/cloud_zos/ar6_projections/original') if k.startswith('.')==False]\n",
    "\n",
    "target_grid1 = xr.Dataset( #create target grid\n",
    "        {\"lat\": ([\"lat\"], np.arange(-90, 90, 1), {\"units\": \"degrees_north\"}),\n",
    "         \"lon\": ([\"lon\"], np.arange(0, 360, 1), {\"units\": \"degrees_east\"}),})\n",
    "target_grid1.attrs['name'] = '1x1'\n",
    "    \n",
    "target_grid2 = xr.open_dataset('/home/jovyan/cloud_zos/month_means_1993_2022_psmsl.nc')\n",
    "target_grid2.attrs['name'] = 'psmsl'\n",
    "\n",
    "target_grids = [target_grid1,target_grid2]\n",
    "\n",
    "for input_fn in tqdm(ar6_fns):\n",
    "    ar6_ds = xr.open_dataset(input_fn).load() #load ar6_dataset\n",
    "\n",
    "    for target_grid in target_grids:\n",
    "\n",
    "        ar6_regriddded = regrid_ar6_slc_nn(ar6_ds,target_grid) #regrid\n",
    "        \n",
    "        ar6_regriddded.sel(quantiles=[.17,.5,.83]).to_netcdf(input_fn.replace('original','regridded').replace('.nc','_'+target_grid.attrs['name']+'.nc'),mode='w') #store (with a selection of quantiles to reduce filesize)\n",
    "        print('Stored: '+input_fn.replace('.nc','_'+target_grid.attrs['name']+'.nc'))"
   ]
  },
  {
   "cell_type": "code",
   "execution_count": null,
   "id": "f3f3e43d-2ab2-4964-a270-34220ff10946",
   "metadata": {},
   "outputs": [],
   "source": []
  }
 ],
 "metadata": {
  "kernelspec": {
   "display_name": "Python 3 (ipykernel)",
   "language": "python",
   "name": "python3"
  },
  "language_info": {
   "codemirror_mode": {
    "name": "ipython",
    "version": 3
   },
   "file_extension": ".py",
   "mimetype": "text/x-python",
   "name": "python",
   "nbconvert_exporter": "python",
   "pygments_lexer": "ipython3",
   "version": "3.12.11"
  }
 },
 "nbformat": 4,
 "nbformat_minor": 5
}
