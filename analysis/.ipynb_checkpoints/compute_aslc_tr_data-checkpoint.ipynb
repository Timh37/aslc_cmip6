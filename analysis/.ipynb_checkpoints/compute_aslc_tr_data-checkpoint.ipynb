{
 "cells": [
  {
   "cell_type": "code",
   "execution_count": 1,
   "id": "8b68db28-ce24-48a2-a2d2-6f981033430f",
   "metadata": {},
   "outputs": [],
   "source": [
    "import numpy as np\n",
    "import xarray as xr\n",
    "import xesmf as xe\n",
    "import numpy as np\n",
    "from mask_regions import mask_inland_seas, mask_poles\n",
    "\n",
    "def get_lonlat_idx_nearest_to_tgs(tg_ds,ds):\n",
    "    #tg_ds = xr.DataSet containing 'lon' and 'lat' coordinates of tide gauges\n",
    "    #ds    = xr.DataSet containing CMIP6 data to subset\n",
    "    \n",
    "    lon_name = list(k for k in ds.dims if 'lon' in k)[0] #find lon/lat coordinate names\n",
    "    lat_name = list(k for k in ds.dims if 'lat' in k)[0]\n",
    "    \n",
    "    #compute distances between TG coordinates and grid cell centers\n",
    "    distances = 2*np.arcsin( np.sqrt(\n",
    "        np.sin( (np.pi/180) * 0.5*(ds[lat_name]-tg_ds.lat) )**2 +\n",
    "        np.cos((np.pi/180)*tg_ds.lat)*np.cos((np.pi/180)*ds[lat_name])*np.sin((np.pi/180)*0.5*(ds[lon_name]-tg_ds.lon))**2) )\n",
    "\n",
    "    distances = distances.where(np.isfinite(ds),1e30)\n",
    "    idx_nearest = distances.argmin(dim=[lon_name,lat_name]) #find indices of nearest grid cells\n",
    "    return idx_nearest"
   ]
  },
  {
   "cell_type": "markdown",
   "id": "8f887742-7327-4ce6-a0a5-c3746879ff5c",
   "metadata": {},
   "source": [
    "Store data for analyzing the ratio of ASLC range changes to the historical tidal range:"
   ]
  },
  {
   "cell_type": "code",
   "execution_count": 2,
   "id": "253d9816-55be-4cd9-9b87-2192e46a0bf1",
   "metadata": {},
   "outputs": [],
   "source": [
    "#configure script\n",
    "ssp='ssp370'\n",
    "var='zos_ibe'\n",
    "\n",
    "psmsl_fn = '../month_means_1993_2022_psmsl.nc'\n",
    "EOT20_fn = '../EOT20_TR_MHD.nc'\n",
    "sla_fn = 'gs://leap-persistent/timh37/allsat_l4_duacs_sla_1993-2023_0.125deg'\n",
    "ibe_fn = 'gs://leap-persistent/timh37/monthly_ibe_1993-2023_0.125deg'"
   ]
  },
  {
   "cell_type": "code",
   "execution_count": 3,
   "id": "d04fe885-3c1f-4f26-a661-20c90e96f20c",
   "metadata": {},
   "outputs": [],
   "source": [
    "#tide-gauge data\n",
    "psmsl = xr.open_dataset(psmsl_fn) #month means\n",
    "psmsl = mask_poles(mask_inland_seas(psmsl))\n",
    "psmsl = psmsl.where(np.isfinite(psmsl.isel(month=0,drop=True)),drop=True)\n",
    "psmsl_range = 0.1*(psmsl.monmean.max(dim='month') - psmsl.monmean.min(dim='month'))#[cm]\n",
    "\n",
    "psmsl_range.to_netcdf('aslc_tr/psmsl_mean_alsc_range.nc',mode='w')\n",
    "\n",
    "#satellite altimetry and era5-based ibe (1/8 deg)\n",
    "sla = xr.open_dataset(sla_fn,engine='zarr').rename({'latitude':'lat','longitude':'lon'})[['sla']].load()\n",
    "ibe = xr.open_dataset(ibe_fn,engine='zarr').rename({'latitude':'lat','longitude':'lon'}).load()\n",
    "\n",
    "sla = mask_poles(mask_inland_seas(sla))\n",
    "ibe = mask_poles(mask_inland_seas(ibe))\n",
    "\n",
    "sla_ibe = sla['sla']+ ibe['ibe'].values\n",
    "\n",
    "sla_ibe_month_means = sla_ibe.groupby(sla_ibe.time.dt.month).mean()\n",
    "sla_ibe_range = 100*(sla_ibe_month_means.max(dim='month') - sla_ibe_month_means.min(dim='month')) #[cm]\n",
    "sla_ibe_range.to_netcdf('aslc_tr/allsat_l4_duacs_sla_1993-2023_0.125deg_mean_alsc_range.nc',mode='w')"
   ]
  },
  {
   "cell_type": "markdown",
   "id": "46dc2358-22bd-44c1-9a08-32569843eb84",
   "metadata": {},
   "source": [
    "Preprocess/open CMIP6 data:"
   ]
  },
  {
   "cell_type": "code",
   "execution_count": 4,
   "id": "6db87a89-d716-4fa2-ad2c-233580219b26",
   "metadata": {},
   "outputs": [
    {
     "name": "stderr",
     "output_type": "stream",
     "text": [
      "/srv/conda/envs/notebook/lib/python3.12/site-packages/zarr/core/metadata/v2.py:192: UserWarning: Found an empty list of filters in the array metadata document. This is contrary to the Zarr V2 specification, and will cause an error in the future. Use None (or Null in a JSON document) instead of an empty list of filters.\n",
      "  warnings.warn(msg, UserWarning, stacklevel=1)\n",
      "/srv/conda/envs/notebook/lib/python3.12/site-packages/zarr/core/metadata/v2.py:192: UserWarning: Found an empty list of filters in the array metadata document. This is contrary to the Zarr V2 specification, and will cause an error in the future. Use None (or Null in a JSON document) instead of an empty list of filters.\n",
      "  warnings.warn(msg, UserWarning, stacklevel=1)\n",
      "/srv/conda/envs/notebook/lib/python3.12/site-packages/zarr/core/metadata/v2.py:192: UserWarning: Found an empty list of filters in the array metadata document. This is contrary to the Zarr V2 specification, and will cause an error in the future. Use None (or Null in a JSON document) instead of an empty list of filters.\n",
      "  warnings.warn(msg, UserWarning, stacklevel=1)\n",
      "/srv/conda/envs/notebook/lib/python3.12/site-packages/zarr/core/metadata/v2.py:192: UserWarning: Found an empty list of filters in the array metadata document. This is contrary to the Zarr V2 specification, and will cause an error in the future. Use None (or Null in a JSON document) instead of an empty list of filters.\n",
      "  warnings.warn(msg, UserWarning, stacklevel=1)\n",
      "/srv/conda/envs/notebook/lib/python3.12/site-packages/zarr/core/metadata/v2.py:192: UserWarning: Found an empty list of filters in the array metadata document. This is contrary to the Zarr V2 specification, and will cause an error in the future. Use None (or Null in a JSON document) instead of an empty list of filters.\n",
      "  warnings.warn(msg, UserWarning, stacklevel=1)\n",
      "/srv/conda/envs/notebook/lib/python3.12/site-packages/zarr/core/metadata/v2.py:192: UserWarning: Found an empty list of filters in the array metadata document. This is contrary to the Zarr V2 specification, and will cause an error in the future. Use None (or Null in a JSON document) instead of an empty list of filters.\n",
      "  warnings.warn(msg, UserWarning, stacklevel=1)\n",
      "/srv/conda/envs/notebook/lib/python3.12/site-packages/zarr/core/metadata/v2.py:192: UserWarning: Found an empty list of filters in the array metadata document. This is contrary to the Zarr V2 specification, and will cause an error in the future. Use None (or Null in a JSON document) instead of an empty list of filters.\n",
      "  warnings.warn(msg, UserWarning, stacklevel=1)\n",
      "/srv/conda/envs/notebook/lib/python3.12/site-packages/zarr/core/metadata/v2.py:192: UserWarning: Found an empty list of filters in the array metadata document. This is contrary to the Zarr V2 specification, and will cause an error in the future. Use None (or Null in a JSON document) instead of an empty list of filters.\n",
      "  warnings.warn(msg, UserWarning, stacklevel=1)\n"
     ]
    }
   ],
   "source": [
    "from analysis_io import open_aslc_range\n",
    "\n",
    "exclude_models = ['INM-CM5-0','INM-CM4-8','GISS-E2-1-G','MIROC-ES2L'] #poorly performing models\n",
    "\n",
    "aslc_range = open_aslc_range('gs://leap-persistent/timh37/CMIP6/aslc_1x1',{'lat':500,'lon':500,'period':1,'member_id':50,'experiment_id':4}).sel(experiment_id=ssp).drop_sel(source_id=exclude_models)#.load()\n",
    "aslc_range_tgs = open_aslc_range('gs://leap-persistent/timh37/CMIP6/aslc_psmsl',{'tg':1000,'period':2,'member_id':200}).sel(experiment_id=ssp).drop_sel(source_id=exclude_models).load()\n",
    "\n",
    "more_than_10_models = np.isfinite(aslc_range.zos_ibe).any(dim='member_id').sum(dim='source_id')>=10 #mask for gridded fields where less than 10 models have data\n",
    "\n",
    "aslc_range = mask_poles( mask_inland_seas( aslc_range.where(more_than_10_models) ) )\n",
    "aslc_range_tgs = mask_poles( mask_inland_seas( aslc_range_tgs ) )\n",
    "\n",
    "hist_range = aslc_range[var].isel(period=0).mean(dim='member_id').median(dim='source_id').load()\n",
    "hist_range_tgs = aslc_range_tgs[var].isel(period=0).mean(dim='member_id').median(dim='source_id').load()\n",
    "\n",
    "drange = (aslc_range[var].isel(period=1) - aslc_range[var].isel(period=0)).mean(dim='member_id').median(dim='source_id').load()\n",
    "drange_tgs = (aslc_range_tgs[var].isel(period=1) - aslc_range_tgs[var].isel(period=0)).mean(dim='member_id').median(dim='source_id').load()\n",
    "\n",
    "hist_range_tgs = hist_range_tgs.sel({'id':psmsl.id}) #select cmip6 data only where observations are not masked out \n",
    "drange_tgs = drange_tgs.sel({'id':psmsl.id}) #select cmip6 data only where observations are not masked out \n",
    "\n",
    "#store locally\n",
    "hist_range.to_netcdf('aslc_tr/hist_aslc_range_memmean_median.nc',mode='w')\n",
    "hist_range_tgs.to_netcdf('aslc_tr/hist_aslc_range_memmean_median_tgs.nc',mode='w')\n",
    "drange.to_netcdf('aslc_tr/d_aslc_range_memmean_median_'+ssp+'.nc',mode='w')\n",
    "drange_tgs.to_netcdf('aslc_tr/d_aslc_range_memmean_median_'+ssp+'_tgs.nc',mode='w')\n",
    "\n",
    "#interpolate low-resolution cmip6 projections to eot20/era5 grid for plotting\n",
    "regridder=xe.Regridder(drange,sla_ibe_range,'bilinear',periodic=True,ignore_degenerate=True)\n",
    "drange_at_duacs = regridder(drange)\n",
    "drange_at_duacs.to_dataset(name='zos_ibe').to_netcdf('aslc_tr/d_aslc_range_memmean_median_'+ssp+'_at_duacs.nc',mode='w')\n",
    "\n",
    "hist_range_at_duacs = regridder(hist_range)\n",
    "hist_range_at_duacs.to_dataset(name='zos_ibe').to_netcdf('aslc_tr/hist_aslc_range_memmean_median_at_duacs.nc',mode='w')"
   ]
  },
  {
   "cell_type": "markdown",
   "id": "691c9442-773b-47f1-856b-d9d1a8242da2",
   "metadata": {},
   "source": [
    "Open & regrid EOT20 tidal range data:"
   ]
  },
  {
   "cell_type": "code",
   "execution_count": 5,
   "id": "f9bce15d-75b6-45aa-88ee-58b3f2bd4a92",
   "metadata": {},
   "outputs": [],
   "source": [
    "tr = xr.open_dataset(EOT20_fn).load()\n",
    "tr['tidal_range'] = tr.tidal_range*100 #convert m to cm\n",
    "\n",
    "regridder = xe.Regridder(tr,sla_ibe_range,method='bilinear',periodic=True,ignore_degenerate=True) #regrid to altimetry grid\n",
    "tr_at_duacs = regridder(tr)\n",
    "tr_at_duacs.to_netcdf('aslc_tr/eot20_tr_at_duacs.nc',mode='w')"
   ]
  },
  {
   "cell_type": "code",
   "execution_count": 6,
   "id": "921939d1-840f-4f2b-a12c-11d5a5dad270",
   "metadata": {},
   "outputs": [],
   "source": [
    "idx_nearest = get_lonlat_idx_nearest_to_tgs(hist_range_tgs,tr.tidal_range) #^not completely appropriate to first regrid then extrapolate, but ok for now?\n",
    "    \n",
    "tr_at_tgs = tr.isel(lon=idx_nearest['lon'],lat=idx_nearest['lat'])\n",
    "\n",
    "tr_at_tgs['lat'] = ('id',hist_range_tgs.lat.values)\n",
    "tr_at_tgs['lon'] = ('id',hist_range_tgs.lon.values)\n",
    "tr_at_tgs.to_netcdf('aslc_tr/eot20_tr_at_psmsl.nc',mode='w')"
   ]
  }
 ],
 "metadata": {
  "kernelspec": {
   "display_name": "Python 3 (ipykernel)",
   "language": "python",
   "name": "python3"
  },
  "language_info": {
   "codemirror_mode": {
    "name": "ipython",
    "version": 3
   },
   "file_extension": ".py",
   "mimetype": "text/x-python",
   "name": "python",
   "nbconvert_exporter": "python",
   "pygments_lexer": "ipython3",
   "version": "3.12.11"
  }
 },
 "nbformat": 4,
 "nbformat_minor": 5
}
