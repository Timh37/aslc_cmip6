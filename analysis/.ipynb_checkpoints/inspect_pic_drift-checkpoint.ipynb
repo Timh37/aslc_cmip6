{
 "cells": [
  {
   "cell_type": "code",
   "execution_count": null,
   "id": "521229ce-24db-465f-8dc6-836992d06282",
   "metadata": {},
   "outputs": [],
   "source": [
    "import xarray as xr\n",
    "import gcsfs\n",
    "fs = gcsfs.GCSFileSystem() #list stores, stripp zarr from filename, load \n",
    "\n",
    "''' make some quick plots of the fitted piControl drift'''"
   ]
  },
  {
   "cell_type": "code",
   "execution_count": null,
   "id": "c99b9db7-5c65-4d0d-95a1-9b88c076d9a5",
   "metadata": {},
   "outputs": [],
   "source": [
    "datasets = {}\n",
    "for k in fs.ls('gs://leap-persistent/timh37/CMIP6/zos_piControl_quadfit'): #files are organized by model here, in units m (x0), m/month (x1) and m/month**2 (x2)\n",
    "    datasets[k] = xr.open_dataset('gs://'+k,engine='zarr')"
   ]
  },
  {
   "cell_type": "code",
   "execution_count": null,
   "id": "dc6bc065-f160-42dc-a42e-a666a301e9c2",
   "metadata": {},
   "outputs": [],
   "source": [
    "for k,ds in datasets.items():\n",
    "    print(k)\n",
    "    try:\n",
    "        #print(12*1000*ds.polyfit_coefficients.isel(member_id=0).sel(degree=1).max(skipna=True).values)\n",
    "        print(12*12*1000*ds.polyfit_coefficients.isel(member_id=0).sel(degree=2).mean(skipna=True).values) #global average coefficient\n",
    "    except:\n",
    "        print('doesnt contain data!-------------')\n",
    "        pass"
   ]
  },
  {
   "cell_type": "code",
   "execution_count": null,
   "id": "15a302d7-ec8b-4f82-9042-ce67ce31d130",
   "metadata": {},
   "outputs": [],
   "source": [
    "import matplotlib.pyplot as plt\n",
    "for k,ds in datasets.items():\n",
    "    try:\n",
    "        plt.figure()\n",
    "        (12*12*1000*ds.polyfit_coefficients).isel(member_id=0).sel(degree=2).plot(vmin=-0.01,vmax=0.01,cmap='coolwarm')\n",
    "        plt.title(k.replace('leap-persistent/timh37/CMIP6/',''))\n",
    "    except:\n",
    "        pass"
   ]
  }
 ],
 "metadata": {
  "kernelspec": {
   "display_name": "Python 3 (ipykernel)",
   "language": "python",
   "name": "python3"
  },
  "language_info": {
   "codemirror_mode": {
    "name": "ipython",
    "version": 3
   },
   "file_extension": ".py",
   "mimetype": "text/x-python",
   "name": "python",
   "nbconvert_exporter": "python",
   "pygments_lexer": "ipython3",
   "version": "3.12.11"
  }
 },
 "nbformat": 4,
 "nbformat_minor": 5
}
