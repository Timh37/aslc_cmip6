{
 "cells": [
  {
   "cell_type": "code",
   "execution_count": null,
   "id": "521229ce-24db-465f-8dc6-836992d06282",
   "metadata": {},
   "outputs": [],
   "source": [
    "import numpy as np\n",
    "import xarray as xr\n",
    "import dask\n",
    "import os\n",
    "import intake\n",
    "import pandas as pd\n",
    "from collections import defaultdict\n",
    "from tqdm.autonotebook import tqdm\n",
    "from xmip.preprocessing import rename_cmip6, promote_empty_dims, correct_coordinates, broadcast_lonlat, correct_lon, correct_units, fix_metadata,_drop_coords\n",
    "from xmip.postprocessing import combine_datasets,_concat_sorted_time, match_metrics\n",
    "from cmip_catalogue_operations import reduce_cat_to_max_num_realizations, reduce_areacello_cat, search_cloud\n",
    "from cmip_ds_dict_operations import generate_dict_of_datasets, drop_duplicate_timesteps, drop_coords, fix_inconsistent_calendars, find_matching_pic_datasets, store_matched_pic_fit, subtract_pic_linfit\n",
    "from cmip_ds_dict_operations import drop_incomplete, drop_vars, create_regridder_dict, subtract_ocean_awMean, get_availability_from_ddicts,select_period, regrid_datasets_in_ddict\n",
    "import xesmf as xe\n",
    "import gcsfs\n",
    "fs = gcsfs.GCSFileSystem() #list stores, stripp zarr from filename, load "
   ]
  },
  {
   "cell_type": "code",
   "execution_count": null,
   "id": "c99b9db7-5c65-4d0d-95a1-9b88c076d9a5",
   "metadata": {},
   "outputs": [],
   "source": [
    "datasets = {}\n",
    "for k in fs.ls('gs://leap-persistent/timh37/CMIP6/zos_piControl_quadfit'):\n",
    "    datasets[k] = xr.open_dataset('gs://'+k,engine='zarr')"
   ]
  },
  {
   "cell_type": "code",
   "execution_count": null,
   "id": "dc6bc065-f160-42dc-a42e-a666a301e9c2",
   "metadata": {},
   "outputs": [],
   "source": [
    "for k,ds in datasets.items():\n",
    "    print(k)\n",
    "    try:\n",
    "        #print(12*1000*ds.polyfit_coefficients.isel(member_id=0).sel(degree=1).max(skipna=True).values)\n",
    "        print(12*12*1000*ds.polyfit_coefficients.isel(member_id=0).sel(degree=2).mean(skipna=True).values)\n",
    "    except:\n",
    "        print('doesnt contain data!-------------')\n",
    "        pass"
   ]
  },
  {
   "cell_type": "code",
   "execution_count": null,
   "id": "15a302d7-ec8b-4f82-9042-ce67ce31d130",
   "metadata": {},
   "outputs": [],
   "source": [
    "import matplotlib.pyplot as plt\n",
    "for k,ds in datasets.items():\n",
    "    try:\n",
    "        plt.figure()\n",
    "        (12*12*1000*ds.polyfit_coefficients).isel(member_id=0).sel(degree=2).plot(vmin=-0.01,vmax=0.01,cmap='coolwarm')\n",
    "        plt.title(k.replace('leap-persistent/timh37/CMIP6/',''))\n",
    "    except:\n",
    "        pass"
   ]
  }
 ],
 "metadata": {
  "kernelspec": {
   "display_name": "Python 3 (ipykernel)",
   "language": "python",
   "name": "python3"
  },
  "language_info": {
   "codemirror_mode": {
    "name": "ipython",
    "version": 3
   },
   "file_extension": ".py",
   "mimetype": "text/x-python",
   "name": "python",
   "nbconvert_exporter": "python",
   "pygments_lexer": "ipython3",
   "version": "3.12.10"
  }
 },
 "nbformat": 4,
 "nbformat_minor": 5
}
